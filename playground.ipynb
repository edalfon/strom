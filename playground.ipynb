{
 "cells": [
  {
   "cell_type": "code",
   "execution_count": 1,
   "metadata": {},
   "outputs": [],
   "source": [
    "#import duckdb\n",
    "#con = duckdb.connect(database=':memory:')\n",
    "#con.execute(\"INSTALL sqlite;\")\n",
    "#con.execute(\"LOAD sqlite;\")\n",
    "#con.execute(\"CALL sqlite_attach('data/2022-12-23-ecas-export.db');\")\n",
    "#con.execute(\"PRAGMA show_tables;\")\n",
    "#con.fetchall()"
   ]
  },
  {
   "cell_type": "code",
   "execution_count": 2,
   "metadata": {},
   "outputs": [],
   "source": [
    "#con.execute(\"DESCRIBE android_metadata;\")\n",
    "#con.fetchall()"
   ]
  },
  {
   "cell_type": "code",
   "execution_count": 3,
   "metadata": {},
   "outputs": [],
   "source": [
    "#import sqlalchemy "
   ]
  },
  {
   "cell_type": "code",
   "execution_count": 4,
   "metadata": {},
   "outputs": [],
   "source": [
    "import duckdb\n",
    "import pandas as pd\n",
    "import sqlalchemy\n",
    "# No need to import duckdb_engine\n",
    "#  SQLAlchemy will auto-detect the driver needed based on your connection string!\n",
    "\n",
    "# Import ipython-sql Jupyter extension to create SQL cells\n",
    "%load_ext sql\n",
    "%config SqlMagic.autopandas = True\n",
    "%config SqlMagic.feedback = False\n",
    "%config SqlMagic.displaycon = False"
   ]
  },
  {
   "cell_type": "code",
   "execution_count": 5,
   "metadata": {},
   "outputs": [],
   "source": [
    "%sql duckdb:///:memory:"
   ]
  },
  {
   "cell_type": "code",
   "execution_count": 6,
   "metadata": {},
   "outputs": [
    {
     "data": {
      "text/html": [
       "<div>\n",
       "<style scoped>\n",
       "    .dataframe tbody tr th:only-of-type {\n",
       "        vertical-align: middle;\n",
       "    }\n",
       "\n",
       "    .dataframe tbody tr th {\n",
       "        vertical-align: top;\n",
       "    }\n",
       "\n",
       "    .dataframe thead th {\n",
       "        text-align: right;\n",
       "    }\n",
       "</style>\n",
       "<table border=\"1\" class=\"dataframe\">\n",
       "  <thead>\n",
       "    <tr style=\"text-align: right;\">\n",
       "      <th></th>\n",
       "    </tr>\n",
       "  </thead>\n",
       "  <tbody>\n",
       "  </tbody>\n",
       "</table>\n",
       "</div>"
      ],
      "text/plain": [
       "Empty DataFrame\n",
       "Columns: []\n",
       "Index: []"
      ]
     },
     "execution_count": 6,
     "metadata": {},
     "output_type": "execute_result"
    }
   ],
   "source": [
    "%%sql\n",
    "\n",
    "-- SQLite Scanner\n",
    "-- https://duckdb.org/docs/extensions/sqlite_scanner.html\n",
    "-- TODO: perhaps consider SET GLOBAL sqlite_all_varchar=true;\n",
    "--       to avoid things getting read as blob\n",
    "INSTALL sqlite;\n",
    "LOAD sqlite;"
   ]
  },
  {
   "cell_type": "code",
   "execution_count": 7,
   "metadata": {},
   "outputs": [
    {
     "data": {
      "text/html": [
       "<div>\n",
       "<style scoped>\n",
       "    .dataframe tbody tr th:only-of-type {\n",
       "        vertical-align: middle;\n",
       "    }\n",
       "\n",
       "    .dataframe tbody tr th {\n",
       "        vertical-align: top;\n",
       "    }\n",
       "\n",
       "    .dataframe thead th {\n",
       "        text-align: right;\n",
       "    }\n",
       "</style>\n",
       "<table border=\"1\" class=\"dataframe\">\n",
       "  <thead>\n",
       "    <tr style=\"text-align: right;\">\n",
       "      <th></th>\n",
       "      <th>name</th>\n",
       "    </tr>\n",
       "  </thead>\n",
       "  <tbody>\n",
       "    <tr>\n",
       "      <th>0</th>\n",
       "      <td>android_metadata</td>\n",
       "    </tr>\n",
       "    <tr>\n",
       "      <th>1</th>\n",
       "      <td>meter</td>\n",
       "    </tr>\n",
       "    <tr>\n",
       "      <th>2</th>\n",
       "      <td>reading</td>\n",
       "    </tr>\n",
       "  </tbody>\n",
       "</table>\n",
       "</div>"
      ],
      "text/plain": [
       "               name\n",
       "0  android_metadata\n",
       "1             meter\n",
       "2           reading"
      ]
     },
     "execution_count": 7,
     "metadata": {},
     "output_type": "execute_result"
    }
   ],
   "source": [
    "%%sql\n",
    "\n",
    "CALL sqlite_attach('data/2022-12-24-ecas-export.db');\n",
    "PRAGMA show_tables;"
   ]
  },
  {
   "cell_type": "code",
   "execution_count": 8,
   "metadata": {},
   "outputs": [
    {
     "data": {
      "text/html": [
       "<div>\n",
       "<style scoped>\n",
       "    .dataframe tbody tr th:only-of-type {\n",
       "        vertical-align: middle;\n",
       "    }\n",
       "\n",
       "    .dataframe tbody tr th {\n",
       "        vertical-align: top;\n",
       "    }\n",
       "\n",
       "    .dataframe thead th {\n",
       "        text-align: right;\n",
       "    }\n",
       "</style>\n",
       "<table border=\"1\" class=\"dataframe\">\n",
       "  <thead>\n",
       "    <tr style=\"text-align: right;\">\n",
       "      <th></th>\n",
       "      <th>_id</th>\n",
       "      <th>name</th>\n",
       "      <th>units</th>\n",
       "      <th>comment</th>\n",
       "      <th>vsf</th>\n",
       "      <th>tsf</th>\n",
       "      <th>cost</th>\n",
       "      <th>fcost</th>\n",
       "      <th>invert</th>\n",
       "      <th>vmsetup</th>\n",
       "      <th>type</th>\n",
       "      <th>currency</th>\n",
       "      <th>scaling</th>\n",
       "      <th>phyunits</th>\n",
       "      <th>bidir</th>\n",
       "      <th>prod</th>\n",
       "    </tr>\n",
       "  </thead>\n",
       "  <tbody>\n",
       "    <tr>\n",
       "      <th>0</th>\n",
       "      <td>1</td>\n",
       "      <td>b'Strom'</td>\n",
       "      <td>b''</td>\n",
       "      <td>b''</td>\n",
       "      <td>b'50'</td>\n",
       "      <td>b'50'</td>\n",
       "      <td>b''</td>\n",
       "      <td>b''</td>\n",
       "      <td>b'0'</td>\n",
       "      <td>None</td>\n",
       "      <td>b'0'</td>\n",
       "      <td>b'$'</td>\n",
       "      <td>b'1.0'</td>\n",
       "      <td>b''</td>\n",
       "      <td>b'0'</td>\n",
       "      <td>b'0'</td>\n",
       "    </tr>\n",
       "    <tr>\n",
       "      <th>1</th>\n",
       "      <td>2</td>\n",
       "      <td>b'W\\xc3\\xa4rmestrom 18.2'</td>\n",
       "      <td>b''</td>\n",
       "      <td>b''</td>\n",
       "      <td>b'50'</td>\n",
       "      <td>b'50'</td>\n",
       "      <td>b''</td>\n",
       "      <td>b''</td>\n",
       "      <td>b'0'</td>\n",
       "      <td>None</td>\n",
       "      <td>b'0'</td>\n",
       "      <td>b'$'</td>\n",
       "      <td>b'1.0'</td>\n",
       "      <td>b''</td>\n",
       "      <td>b'0'</td>\n",
       "      <td>b'0'</td>\n",
       "    </tr>\n",
       "    <tr>\n",
       "      <th>2</th>\n",
       "      <td>3</td>\n",
       "      <td>b'W\\xc3\\xa4rmestrom 18.1'</td>\n",
       "      <td>b''</td>\n",
       "      <td>b''</td>\n",
       "      <td>b'50'</td>\n",
       "      <td>b'50'</td>\n",
       "      <td>b''</td>\n",
       "      <td>b''</td>\n",
       "      <td>b'0'</td>\n",
       "      <td>None</td>\n",
       "      <td>b'0'</td>\n",
       "      <td>b'$'</td>\n",
       "      <td>b'1.0'</td>\n",
       "      <td>b''</td>\n",
       "      <td>b'0'</td>\n",
       "      <td>b'0'</td>\n",
       "    </tr>\n",
       "    <tr>\n",
       "      <th>3</th>\n",
       "      <td>4</td>\n",
       "      <td>b'Wasser'</td>\n",
       "      <td>b''</td>\n",
       "      <td>b''</td>\n",
       "      <td>b'50'</td>\n",
       "      <td>b'50'</td>\n",
       "      <td>b''</td>\n",
       "      <td>b''</td>\n",
       "      <td>b'0'</td>\n",
       "      <td>None</td>\n",
       "      <td>b'0'</td>\n",
       "      <td>b'$'</td>\n",
       "      <td>b'1.0'</td>\n",
       "      <td>b''</td>\n",
       "      <td>b'0'</td>\n",
       "      <td>b'0'</td>\n",
       "    </tr>\n",
       "    <tr>\n",
       "      <th>4</th>\n",
       "      <td>5</td>\n",
       "      <td>b'L\\xc3\\xbcftungsanlage'</td>\n",
       "      <td>b''</td>\n",
       "      <td>b''</td>\n",
       "      <td>b'50'</td>\n",
       "      <td>b'50'</td>\n",
       "      <td>b''</td>\n",
       "      <td>b''</td>\n",
       "      <td>b'0'</td>\n",
       "      <td>None</td>\n",
       "      <td>b'0'</td>\n",
       "      <td>b'$'</td>\n",
       "      <td>b'1.0'</td>\n",
       "      <td>b''</td>\n",
       "      <td>b'0'</td>\n",
       "      <td>b'0'</td>\n",
       "    </tr>\n",
       "    <tr>\n",
       "      <th>5</th>\n",
       "      <td>6</td>\n",
       "      <td>b'Waschmaschine'</td>\n",
       "      <td>b''</td>\n",
       "      <td>b''</td>\n",
       "      <td>b'50'</td>\n",
       "      <td>b'50'</td>\n",
       "      <td>b''</td>\n",
       "      <td>b''</td>\n",
       "      <td>b'0'</td>\n",
       "      <td>None</td>\n",
       "      <td>b'0'</td>\n",
       "      <td>b'$'</td>\n",
       "      <td>b'1.0'</td>\n",
       "      <td>b''</td>\n",
       "      <td>b'0'</td>\n",
       "      <td>b'0'</td>\n",
       "    </tr>\n",
       "    <tr>\n",
       "      <th>6</th>\n",
       "      <td>7</td>\n",
       "      <td>b'Geschirrsp\\xc3\\xbcler'</td>\n",
       "      <td>b''</td>\n",
       "      <td>b''</td>\n",
       "      <td>b'50'</td>\n",
       "      <td>b'50'</td>\n",
       "      <td>b''</td>\n",
       "      <td>b''</td>\n",
       "      <td>b'0'</td>\n",
       "      <td>None</td>\n",
       "      <td>b'0'</td>\n",
       "      <td>b'$'</td>\n",
       "      <td>b'1.0'</td>\n",
       "      <td>b''</td>\n",
       "      <td>b'0'</td>\n",
       "      <td>b'0'</td>\n",
       "    </tr>\n",
       "    <tr>\n",
       "      <th>7</th>\n",
       "      <td>8</td>\n",
       "      <td>b'Offen'</td>\n",
       "      <td>b''</td>\n",
       "      <td>b''</td>\n",
       "      <td>b'50'</td>\n",
       "      <td>b'50'</td>\n",
       "      <td>b''</td>\n",
       "      <td>b''</td>\n",
       "      <td>b'0'</td>\n",
       "      <td>None</td>\n",
       "      <td>b'0'</td>\n",
       "      <td>b'$'</td>\n",
       "      <td>b'1.0'</td>\n",
       "      <td>b''</td>\n",
       "      <td>b'0'</td>\n",
       "      <td>b'0'</td>\n",
       "    </tr>\n",
       "    <tr>\n",
       "      <th>8</th>\n",
       "      <td>9</td>\n",
       "      <td>b'Reset'</td>\n",
       "      <td>b''</td>\n",
       "      <td>b''</td>\n",
       "      <td>b'50'</td>\n",
       "      <td>b'50'</td>\n",
       "      <td>b''</td>\n",
       "      <td>b''</td>\n",
       "      <td>b'0'</td>\n",
       "      <td>None</td>\n",
       "      <td>b'0'</td>\n",
       "      <td>b'$'</td>\n",
       "      <td>b'1.0'</td>\n",
       "      <td>b''</td>\n",
       "      <td>b'0'</td>\n",
       "      <td>b'0'</td>\n",
       "    </tr>\n",
       "    <tr>\n",
       "      <th>9</th>\n",
       "      <td>10</td>\n",
       "      <td>b'Nachladen'</td>\n",
       "      <td>b''</td>\n",
       "      <td>b''</td>\n",
       "      <td>b'50'</td>\n",
       "      <td>b'50'</td>\n",
       "      <td>b''</td>\n",
       "      <td>b''</td>\n",
       "      <td>b'0'</td>\n",
       "      <td>None</td>\n",
       "      <td>b'0'</td>\n",
       "      <td>b'$'</td>\n",
       "      <td>b'1.0'</td>\n",
       "      <td>b''</td>\n",
       "      <td>b'0'</td>\n",
       "      <td>b'0'</td>\n",
       "    </tr>\n",
       "    <tr>\n",
       "      <th>10</th>\n",
       "      <td>11</td>\n",
       "      <td>b'Temp'</td>\n",
       "      <td>b''</td>\n",
       "      <td>b''</td>\n",
       "      <td>b'50'</td>\n",
       "      <td>b'50'</td>\n",
       "      <td>b''</td>\n",
       "      <td>b''</td>\n",
       "      <td>b'0'</td>\n",
       "      <td>None</td>\n",
       "      <td>b'0'</td>\n",
       "      <td>b'$'</td>\n",
       "      <td>b'1.0'</td>\n",
       "      <td>b''</td>\n",
       "      <td>b'0'</td>\n",
       "      <td>b'0'</td>\n",
       "    </tr>\n",
       "    <tr>\n",
       "      <th>11</th>\n",
       "      <td>12</td>\n",
       "      <td>b'W\\xc3\\xa4rmer'</td>\n",
       "      <td>b''</td>\n",
       "      <td>b''</td>\n",
       "      <td>b'50'</td>\n",
       "      <td>b'50'</td>\n",
       "      <td>b''</td>\n",
       "      <td>b''</td>\n",
       "      <td>b'0'</td>\n",
       "      <td>None</td>\n",
       "      <td>b'0'</td>\n",
       "      <td>b'$'</td>\n",
       "      <td>b'1.0'</td>\n",
       "      <td>b''</td>\n",
       "      <td>b'0'</td>\n",
       "      <td>b'0'</td>\n",
       "    </tr>\n",
       "  </tbody>\n",
       "</table>\n",
       "</div>"
      ],
      "text/plain": [
       "    _id                       name units comment    vsf    tsf cost fcost  \\\n",
       "0     1                   b'Strom'   b''     b''  b'50'  b'50'  b''   b''   \n",
       "1     2  b'W\\xc3\\xa4rmestrom 18.2'   b''     b''  b'50'  b'50'  b''   b''   \n",
       "2     3  b'W\\xc3\\xa4rmestrom 18.1'   b''     b''  b'50'  b'50'  b''   b''   \n",
       "3     4                  b'Wasser'   b''     b''  b'50'  b'50'  b''   b''   \n",
       "4     5   b'L\\xc3\\xbcftungsanlage'   b''     b''  b'50'  b'50'  b''   b''   \n",
       "5     6           b'Waschmaschine'   b''     b''  b'50'  b'50'  b''   b''   \n",
       "6     7   b'Geschirrsp\\xc3\\xbcler'   b''     b''  b'50'  b'50'  b''   b''   \n",
       "7     8                   b'Offen'   b''     b''  b'50'  b'50'  b''   b''   \n",
       "8     9                   b'Reset'   b''     b''  b'50'  b'50'  b''   b''   \n",
       "9    10               b'Nachladen'   b''     b''  b'50'  b'50'  b''   b''   \n",
       "10   11                    b'Temp'   b''     b''  b'50'  b'50'  b''   b''   \n",
       "11   12           b'W\\xc3\\xa4rmer'   b''     b''  b'50'  b'50'  b''   b''   \n",
       "\n",
       "   invert vmsetup  type currency scaling phyunits bidir  prod  \n",
       "0    b'0'    None  b'0'     b'$'  b'1.0'      b''  b'0'  b'0'  \n",
       "1    b'0'    None  b'0'     b'$'  b'1.0'      b''  b'0'  b'0'  \n",
       "2    b'0'    None  b'0'     b'$'  b'1.0'      b''  b'0'  b'0'  \n",
       "3    b'0'    None  b'0'     b'$'  b'1.0'      b''  b'0'  b'0'  \n",
       "4    b'0'    None  b'0'     b'$'  b'1.0'      b''  b'0'  b'0'  \n",
       "5    b'0'    None  b'0'     b'$'  b'1.0'      b''  b'0'  b'0'  \n",
       "6    b'0'    None  b'0'     b'$'  b'1.0'      b''  b'0'  b'0'  \n",
       "7    b'0'    None  b'0'     b'$'  b'1.0'      b''  b'0'  b'0'  \n",
       "8    b'0'    None  b'0'     b'$'  b'1.0'      b''  b'0'  b'0'  \n",
       "9    b'0'    None  b'0'     b'$'  b'1.0'      b''  b'0'  b'0'  \n",
       "10   b'0'    None  b'0'     b'$'  b'1.0'      b''  b'0'  b'0'  \n",
       "11   b'0'    None  b'0'     b'$'  b'1.0'      b''  b'0'  b'0'  "
      ]
     },
     "execution_count": 8,
     "metadata": {},
     "output_type": "execute_result"
    }
   ],
   "source": [
    "%%sql \n",
    "\n",
    "SELECT * FROM meter;"
   ]
  },
  {
   "cell_type": "code",
   "execution_count": 9,
   "metadata": {
    "vscode": {
     "languageId": "sql"
    }
   },
   "outputs": [
    {
     "data": {
      "text/html": [
       "<div>\n",
       "<style scoped>\n",
       "    .dataframe tbody tr th:only-of-type {\n",
       "        vertical-align: middle;\n",
       "    }\n",
       "\n",
       "    .dataframe tbody tr th {\n",
       "        vertical-align: top;\n",
       "    }\n",
       "\n",
       "    .dataframe thead th {\n",
       "        text-align: right;\n",
       "    }\n",
       "</style>\n",
       "<table border=\"1\" class=\"dataframe\">\n",
       "  <thead>\n",
       "    <tr style=\"text-align: right;\">\n",
       "      <th></th>\n",
       "    </tr>\n",
       "  </thead>\n",
       "  <tbody>\n",
       "  </tbody>\n",
       "</table>\n",
       "</div>"
      ],
      "text/plain": [
       "Empty DataFrame\n",
       "Columns: []\n",
       "Index: []"
      ]
     },
     "execution_count": 9,
     "metadata": {},
     "output_type": "execute_result"
    }
   ],
   "source": [
    "%%sql \n",
    "\n",
    "-- Blob Functions, because most columns get read as blob\n",
    "-- https://duckdb.org/docs/sql/functions/blob\n",
    "CREATE OR REPLACE VIEW strom AS \n",
    "SELECT meterid, decode(date)::DATETIME AS date, decode(value)::INT AS value \n",
    "FROM reading WHERE meterid = 1\n",
    ";"
   ]
  },
  {
   "attachments": {},
   "cell_type": "markdown",
   "metadata": {},
   "source": [
    "How to use SQLAlchemy and ipython-sql to write sql against DuckDB directly in Jupyter\n",
    "https://duckdb.org/docs/guides/python/jupyter.html\n"
   ]
  },
  {
   "cell_type": "code",
   "execution_count": 10,
   "metadata": {},
   "outputs": [
    {
     "name": "stdout",
     "output_type": "stream",
     "text": [
      "Returning data to local variable my_df\n"
     ]
    }
   ],
   "source": [
    "%%sql \n",
    "\n",
    "my_df << SELECT 'Off and flying!' as a_duckdb_column"
   ]
  },
  {
   "cell_type": "markdown",
   "metadata": {},
   "source": [
    "-- date_sub(): The number of complete partitions between the times\n",
    "-- https://duckdb.org/docs/sql/functions/time.html"
   ]
  },
  {
   "cell_type": "code",
   "execution_count": 11,
   "metadata": {
    "vscode": {
     "languageId": "sql"
    }
   },
   "outputs": [
    {
     "name": "stdout",
     "output_type": "stream",
     "text": [
      "Returning data to local variable strom_df\n"
     ]
    }
   ],
   "source": [
    "%%sql \n",
    "\n",
    "strom_df << SELECT \n",
    "  *, \n",
    "  date_sub('minute', lag(date) over(order by date), date) AS minutes, \n",
    "  value - lag(value) over(order by date) AS consumption,\n",
    "  24.0 * 60.0 * consumption / minutes AS consumption_per_day\n",
    "FROM strom\n",
    "ORDER BY date\n",
    ";"
   ]
  },
  {
   "cell_type": "code",
   "execution_count": 12,
   "metadata": {
    "vscode": {
     "languageId": "sql"
    }
   },
   "outputs": [
    {
     "data": {
      "text/html": [
       "<div>\n",
       "<style scoped>\n",
       "    .dataframe tbody tr th:only-of-type {\n",
       "        vertical-align: middle;\n",
       "    }\n",
       "\n",
       "    .dataframe tbody tr th {\n",
       "        vertical-align: top;\n",
       "    }\n",
       "\n",
       "    .dataframe thead th {\n",
       "        text-align: right;\n",
       "    }\n",
       "</style>\n",
       "<table border=\"1\" class=\"dataframe\">\n",
       "  <thead>\n",
       "    <tr style=\"text-align: right;\">\n",
       "      <th></th>\n",
       "      <th>meterid</th>\n",
       "      <th>date</th>\n",
       "      <th>value</th>\n",
       "      <th>minutes</th>\n",
       "      <th>consumption</th>\n",
       "      <th>consumption_per_day</th>\n",
       "    </tr>\n",
       "  </thead>\n",
       "  <tbody>\n",
       "    <tr>\n",
       "      <th>0</th>\n",
       "      <td>1</td>\n",
       "      <td>2020-11-30 07:07:00</td>\n",
       "      <td>12162</td>\n",
       "      <td>NaN</td>\n",
       "      <td>NaN</td>\n",
       "      <td>NaN</td>\n",
       "    </tr>\n",
       "    <tr>\n",
       "      <th>1</th>\n",
       "      <td>1</td>\n",
       "      <td>2020-11-30 17:35:00</td>\n",
       "      <td>12165</td>\n",
       "      <td>628.0</td>\n",
       "      <td>3.0</td>\n",
       "      <td>6.878981</td>\n",
       "    </tr>\n",
       "    <tr>\n",
       "      <th>2</th>\n",
       "      <td>1</td>\n",
       "      <td>2020-11-30 23:59:00</td>\n",
       "      <td>12168</td>\n",
       "      <td>384.0</td>\n",
       "      <td>3.0</td>\n",
       "      <td>11.250000</td>\n",
       "    </tr>\n",
       "    <tr>\n",
       "      <th>3</th>\n",
       "      <td>1</td>\n",
       "      <td>2020-12-01 07:18:00</td>\n",
       "      <td>12170</td>\n",
       "      <td>439.0</td>\n",
       "      <td>2.0</td>\n",
       "      <td>6.560364</td>\n",
       "    </tr>\n",
       "    <tr>\n",
       "      <th>4</th>\n",
       "      <td>1</td>\n",
       "      <td>2020-12-01 14:23:00</td>\n",
       "      <td>12173</td>\n",
       "      <td>425.0</td>\n",
       "      <td>3.0</td>\n",
       "      <td>10.164706</td>\n",
       "    </tr>\n",
       "    <tr>\n",
       "      <th>...</th>\n",
       "      <td>...</td>\n",
       "      <td>...</td>\n",
       "      <td>...</td>\n",
       "      <td>...</td>\n",
       "      <td>...</td>\n",
       "      <td>...</td>\n",
       "    </tr>\n",
       "    <tr>\n",
       "      <th>350</th>\n",
       "      <td>1</td>\n",
       "      <td>2022-12-23 10:39:00</td>\n",
       "      <td>18701</td>\n",
       "      <td>1628.0</td>\n",
       "      <td>9.0</td>\n",
       "      <td>7.960688</td>\n",
       "    </tr>\n",
       "    <tr>\n",
       "      <th>351</th>\n",
       "      <td>1</td>\n",
       "      <td>2022-12-23 13:03:00</td>\n",
       "      <td>18704</td>\n",
       "      <td>144.0</td>\n",
       "      <td>3.0</td>\n",
       "      <td>30.000000</td>\n",
       "    </tr>\n",
       "    <tr>\n",
       "      <th>352</th>\n",
       "      <td>1</td>\n",
       "      <td>2022-12-23 17:47:00</td>\n",
       "      <td>18707</td>\n",
       "      <td>284.0</td>\n",
       "      <td>3.0</td>\n",
       "      <td>15.211268</td>\n",
       "    </tr>\n",
       "    <tr>\n",
       "      <th>353</th>\n",
       "      <td>1</td>\n",
       "      <td>2022-12-24 07:44:00</td>\n",
       "      <td>18711</td>\n",
       "      <td>837.0</td>\n",
       "      <td>4.0</td>\n",
       "      <td>6.881720</td>\n",
       "    </tr>\n",
       "    <tr>\n",
       "      <th>354</th>\n",
       "      <td>1</td>\n",
       "      <td>2022-12-24 10:17:00</td>\n",
       "      <td>18713</td>\n",
       "      <td>153.0</td>\n",
       "      <td>2.0</td>\n",
       "      <td>18.823529</td>\n",
       "    </tr>\n",
       "  </tbody>\n",
       "</table>\n",
       "<p>355 rows × 6 columns</p>\n",
       "</div>"
      ],
      "text/plain": [
       "     meterid                date  value  minutes  consumption  \\\n",
       "0          1 2020-11-30 07:07:00  12162      NaN          NaN   \n",
       "1          1 2020-11-30 17:35:00  12165    628.0          3.0   \n",
       "2          1 2020-11-30 23:59:00  12168    384.0          3.0   \n",
       "3          1 2020-12-01 07:18:00  12170    439.0          2.0   \n",
       "4          1 2020-12-01 14:23:00  12173    425.0          3.0   \n",
       "..       ...                 ...    ...      ...          ...   \n",
       "350        1 2022-12-23 10:39:00  18701   1628.0          9.0   \n",
       "351        1 2022-12-23 13:03:00  18704    144.0          3.0   \n",
       "352        1 2022-12-23 17:47:00  18707    284.0          3.0   \n",
       "353        1 2022-12-24 07:44:00  18711    837.0          4.0   \n",
       "354        1 2022-12-24 10:17:00  18713    153.0          2.0   \n",
       "\n",
       "     consumption_per_day  \n",
       "0                    NaN  \n",
       "1               6.878981  \n",
       "2              11.250000  \n",
       "3               6.560364  \n",
       "4              10.164706  \n",
       "..                   ...  \n",
       "350             7.960688  \n",
       "351            30.000000  \n",
       "352            15.211268  \n",
       "353             6.881720  \n",
       "354            18.823529  \n",
       "\n",
       "[355 rows x 6 columns]"
      ]
     },
     "execution_count": 12,
     "metadata": {},
     "output_type": "execute_result"
    }
   ],
   "source": [
    "strom_df"
   ]
  },
  {
   "cell_type": "code",
   "execution_count": 13,
   "metadata": {},
   "outputs": [
    {
     "data": {
      "text/plain": [
       "<matplotlib.collections.PathCollection at 0x1b2abf4c640>"
      ]
     },
     "execution_count": 13,
     "metadata": {},
     "output_type": "execute_result"
    },
    {
     "data": {
      "image/png": "[encoded data removed]",
      "text/plain": [
       "<Figure size 640x480 with 1 Axes>"
      ]
     },
     "metadata": {},
     "output_type": "display_data"
    }
   ],
   "source": [
    "\n",
    "strom_df = strom_df.query(\"minutes < 10000\")\n",
    "\n",
    "from matplotlib import pyplot\n",
    "pyplot.scatter(strom_df[\"minutes\"], strom_df[\"consumption_per_day\"])"
   ]
  },
  {
   "cell_type": "code",
   "execution_count": 14,
   "metadata": {},
   "outputs": [
    {
     "data": {
      "application/vnd.plotly.v1+json": {
       "config": {
        "plotlyServerURL": "https://plot.ly"
       },
       "data": [
        {
         "customdata": [
          [
           "2020-11-30T17:35:00"
          ],
          [
           "2020-11-30T23:59:00"
          ],
          [
           "2020-12-01T07:18:00"
          ],
          [
           "2020-12-01T14:23:00"
          ],
          [
           "2020-12-01T20:21:00"
          ],
          [
           "2020-12-02T00:01:00"
          ],
          [
           "2020-12-02T07:28:00"
          ],
          [
           "2020-12-02T12:48:00"
          ],
          [
           "2020-12-03T02:38:00"
          ],
          [
           "2020-12-03T08:53:00"
          ],
          [
           "2020-12-03T22:58:00"
          ],
          [
           "2020-12-04T09:57:00"
          ],
          [
           "2020-12-05T09:52:00"
          ],
          [
           "2020-12-06T08:09:00"
          ],
          [
           "2020-12-07T00:26:00"
          ],
          [
           "2020-12-07T17:16:00"
          ],
          [
           "2020-12-08T00:28:00"
          ],
          [
           "2020-12-08T08:48:00"
          ],
          [
           "2020-12-08T19:50:00"
          ],
          [
           "2020-12-09T11:06:00"
          ],
          [
           "2020-12-09T23:25:00"
          ],
          [
           "2020-12-10T07:43:00"
          ],
          [
           "2020-12-12T09:22:00"
          ],
          [
           "2020-12-12T15:39:00"
          ],
          [
           "2020-12-13T05:01:00"
          ],
          [
           "2020-12-13T15:44:00"
          ],
          [
           "2020-12-14T07:44:00"
          ],
          [
           "2020-12-14T22:13:00"
          ],
          [
           "2020-12-15T09:24:00"
          ],
          [
           "2020-12-15T12:07:00"
          ],
          [
           "2020-12-15T17:15:00"
          ],
          [
           "2020-12-16T09:02:00"
          ],
          [
           "2020-12-17T01:31:00"
          ],
          [
           "2020-12-17T08:23:00"
          ],
          [
           "2020-12-17T20:48:00"
          ],
          [
           "2020-12-18T00:35:00"
          ],
          [
           "2020-12-18T08:39:00"
          ],
          [
           "2020-12-19T08:10:00"
          ],
          [
           "2020-12-19T20:03:00"
          ],
          [
           "2020-12-20T01:37:00"
          ],
          [
           "2020-12-20T08:38:00"
          ],
          [
           "2020-12-20T09:35:00"
          ],
          [
           "2020-12-20T12:33:00"
          ],
          [
           "2020-12-20T15:33:00"
          ],
          [
           "2020-12-21T10:30:00"
          ],
          [
           "2020-12-22T00:04:00"
          ],
          [
           "2020-12-22T11:29:00"
          ],
          [
           "2020-12-22T18:15:00"
          ],
          [
           "2020-12-23T09:14:00"
          ],
          [
           "2020-12-23T16:16:00"
          ],
          [
           "2020-12-23T20:55:00"
          ],
          [
           "2020-12-23T23:43:00"
          ],
          [
           "2020-12-24T00:18:00"
          ],
          [
           "2020-12-24T07:04:00"
          ],
          [
           "2020-12-25T00:53:00"
          ],
          [
           "2020-12-25T09:20:00"
          ],
          [
           "2020-12-26T05:11:00"
          ],
          [
           "2020-12-26T21:20:00"
          ],
          [
           "2020-12-27T08:41:00"
          ],
          [
           "2020-12-27T22:40:00"
          ],
          [
           "2020-12-28T08:34:00"
          ],
          [
           "2020-12-29T00:04:00"
          ],
          [
           "2020-12-29T10:04:00"
          ],
          [
           "2020-12-29T15:30:00"
          ],
          [
           "2020-12-30T00:22:00"
          ],
          [
           "2020-12-30T12:08:00"
          ],
          [
           "2020-12-30T23:26:00"
          ],
          [
           "2020-12-31T22:22:00"
          ],
          [
           "2021-01-01T01:18:00"
          ],
          [
           "2021-01-01T08:38:00"
          ],
          [
           "2021-01-01T09:48:00"
          ],
          [
           "2021-01-01T11:57:00"
          ],
          [
           "2021-01-01T13:15:00"
          ],
          [
           "2021-01-01T14:42:00"
          ],
          [
           "2021-01-01T23:08:00"
          ],
          [
           "2021-01-02T08:27:00"
          ],
          [
           "2021-01-02T14:20:00"
          ],
          [
           "2021-01-03T00:42:00"
          ],
          [
           "2021-01-03T22:42:00"
          ],
          [
           "2021-01-04T08:35:00"
          ],
          [
           "2021-01-04T12:17:00"
          ],
          [
           "2021-01-04T15:10:00"
          ],
          [
           "2021-01-04T16:58:00"
          ],
          [
           "2021-01-05T09:57:00"
          ],
          [
           "2021-01-05T11:40:00"
          ],
          [
           "2021-01-06T09:21:00"
          ],
          [
           "2021-01-07T00:52:00"
          ],
          [
           "2021-01-07T08:22:00"
          ],
          [
           "2021-01-07T17:20:00"
          ],
          [
           "2021-01-07T19:56:00"
          ],
          [
           "2021-01-08T00:50:00"
          ],
          [
           "2021-01-08T09:45:00"
          ],
          [
           "2021-01-08T15:22:00"
          ],
          [
           "2021-01-09T00:21:00"
          ],
          [
           "2021-01-09T07:15:00"
          ],
          [
           "2021-01-10T00:12:00"
          ],
          [
           "2021-01-10T10:42:00"
          ],
          [
           "2021-01-11T00:37:00"
          ],
          [
           "2021-01-11T08:52:00"
          ],
          [
           "2021-01-11T14:53:00"
          ],
          [
           "2021-01-11T18:46:00"
          ],
          [
           "2021-01-12T01:19:00"
          ],
          [
           "2021-01-12T07:38:00"
          ],
          [
           "2021-01-12T19:26:00"
          ],
          [
           "2021-01-13T01:41:00"
          ],
          [
           "2021-01-13T08:38:00"
          ],
          [
           "2021-01-13T14:58:00"
          ],
          [
           "2021-01-14T01:09:00"
          ],
          [
           "2021-01-14T09:59:00"
          ],
          [
           "2021-01-14T21:03:00"
          ],
          [
           "2021-01-15T00:49:00"
          ],
          [
           "2021-01-15T08:36:00"
          ],
          [
           "2021-01-15T14:39:00"
          ],
          [
           "2021-01-15T22:53:00"
          ],
          [
           "2021-01-16T00:39:00"
          ],
          [
           "2021-01-16T09:05:00"
          ],
          [
           "2021-01-16T10:49:00"
          ],
          [
           "2021-01-16T16:39:00"
          ],
          [
           "2021-01-17T00:34:00"
          ],
          [
           "2021-01-17T09:38:00"
          ],
          [
           "2021-01-18T00:10:00"
          ],
          [
           "2021-01-18T08:45:00"
          ],
          [
           "2021-01-18T10:42:00"
          ],
          [
           "2021-01-18T23:51:00"
          ],
          [
           "2021-01-19T05:30:00"
          ],
          [
           "2021-01-19T07:00:00"
          ],
          [
           "2021-01-19T17:27:00"
          ],
          [
           "2021-01-19T19:07:00"
          ],
          [
           "2021-01-19T23:58:00"
          ],
          [
           "2021-01-20T07:43:00"
          ],
          [
           "2021-01-20T22:08:00"
          ],
          [
           "2021-01-21T00:35:00"
          ],
          [
           "2021-01-21T10:43:00"
          ],
          [
           "2021-01-21T19:03:00"
          ],
          [
           "2021-01-22T01:38:00"
          ],
          [
           "2021-01-22T08:51:00"
          ],
          [
           "2021-01-22T13:12:00"
          ],
          [
           "2021-01-22T18:14:00"
          ],
          [
           "2021-01-23T08:25:00"
          ],
          [
           "2021-01-23T17:10:00"
          ],
          [
           "2021-01-23T20:28:00"
          ],
          [
           "2021-01-24T07:57:00"
          ],
          [
           "2021-01-24T22:52:00"
          ],
          [
           "2021-01-25T00:12:00"
          ],
          [
           "2021-01-25T08:14:00"
          ],
          [
           "2021-01-25T13:34:00"
          ],
          [
           "2021-01-26T07:27:00"
          ],
          [
           "2021-01-26T21:32:00"
          ],
          [
           "2021-01-27T00:11:00"
          ],
          [
           "2021-01-27T08:29:00"
          ],
          [
           "2021-01-27T14:13:00"
          ],
          [
           "2021-01-27T20:11:00"
          ],
          [
           "2021-01-28T08:26:00"
          ],
          [
           "2021-01-28T22:10:00"
          ],
          [
           "2021-01-29T01:12:00"
          ],
          [
           "2021-01-29T07:54:00"
          ],
          [
           "2021-01-29T21:17:00"
          ],
          [
           "2021-01-29T23:46:00"
          ],
          [
           "2021-01-30T09:58:00"
          ],
          [
           "2021-01-30T13:22:00"
          ],
          [
           "2021-01-30T20:37:00"
          ],
          [
           "2021-01-31T08:40:00"
          ],
          [
           "2021-01-31T20:35:00"
          ],
          [
           "2021-02-01T00:47:00"
          ],
          [
           "2021-02-01T18:01:00"
          ],
          [
           "2021-02-02T09:56:00"
          ],
          [
           "2021-02-02T22:20:00"
          ],
          [
           "2021-02-03T07:34:00"
          ],
          [
           "2021-02-03T15:11:00"
          ],
          [
           "2021-02-03T23:51:00"
          ],
          [
           "2021-02-04T07:47:00"
          ],
          [
           "2021-02-05T00:05:00"
          ],
          [
           "2021-02-05T08:51:00"
          ],
          [
           "2021-02-05T14:40:00"
          ],
          [
           "2021-02-06T07:54:00"
          ],
          [
           "2021-02-07T08:59:00"
          ],
          [
           "2021-02-07T18:59:00"
          ],
          [
           "2021-02-07T23:55:00"
          ],
          [
           "2021-02-08T10:39:00"
          ],
          [
           "2021-02-09T00:56:00"
          ],
          [
           "2021-02-09T10:11:00"
          ],
          [
           "2021-02-09T21:20:00"
          ],
          [
           "2021-02-10T21:55:00"
          ],
          [
           "2021-02-11T08:45:00"
          ],
          [
           "2021-02-11T10:41:00"
          ],
          [
           "2021-02-11T12:09:00"
          ],
          [
           "2021-02-11T14:52:00"
          ],
          [
           "2021-02-12T00:07:00"
          ],
          [
           "2021-02-12T04:51:00"
          ],
          [
           "2021-02-12T09:03:00"
          ],
          [
           "2021-02-13T00:50:00"
          ],
          [
           "2021-02-13T07:33:00"
          ],
          [
           "2021-02-13T16:45:00"
          ],
          [
           "2021-02-14T01:03:00"
          ],
          [
           "2021-02-14T08:48:00"
          ],
          [
           "2021-02-14T20:59:00"
          ],
          [
           "2021-02-14T23:48:00"
          ],
          [
           "2021-02-15T09:17:00"
          ],
          [
           "2021-02-16T07:19:00"
          ],
          [
           "2021-02-16T20:48:00"
          ],
          [
           "2021-02-17T00:11:00"
          ],
          [
           "2021-02-17T08:16:00"
          ],
          [
           "2021-02-18T00:27:00"
          ],
          [
           "2021-02-18T20:01:00"
          ],
          [
           "2021-02-18T23:55:00"
          ],
          [
           "2021-02-19T20:59:00"
          ],
          [
           "2021-02-21T07:44:00"
          ],
          [
           "2021-02-22T00:03:00"
          ],
          [
           "2021-02-22T07:09:00"
          ],
          [
           "2021-02-22T10:38:00"
          ],
          [
           "2021-02-22T20:02:00"
          ],
          [
           "2021-02-23T08:44:00"
          ],
          [
           "2021-02-24T08:45:00"
          ],
          [
           "2021-02-24T20:52:00"
          ],
          [
           "2021-02-24T23:52:00"
          ],
          [
           "2021-02-25T22:51:00"
          ],
          [
           "2021-02-26T07:41:00"
          ],
          [
           "2021-02-26T22:17:00"
          ],
          [
           "2021-02-27T08:07:00"
          ],
          [
           "2021-02-28T00:52:00"
          ],
          [
           "2021-02-28T10:47:00"
          ],
          [
           "2021-03-01T10:44:00"
          ],
          [
           "2021-03-02T13:42:00"
          ],
          [
           "2021-03-03T00:03:00"
          ],
          [
           "2021-03-03T09:25:00"
          ],
          [
           "2021-03-04T11:24:00"
          ],
          [
           "2021-03-04T23:35:00"
          ],
          [
           "2021-03-05T08:00:00"
          ],
          [
           "2021-03-06T08:27:00"
          ],
          [
           "2021-03-06T21:24:00"
          ],
          [
           "2021-03-07T06:36:00"
          ],
          [
           "2021-03-08T07:44:00"
          ],
          [
           "2021-03-09T06:46:00"
          ],
          [
           "2021-03-09T17:55:00"
          ],
          [
           "2021-03-09T22:46:00"
          ],
          [
           "2021-03-10T06:46:00"
          ],
          [
           "2021-03-12T10:50:00"
          ],
          [
           "2021-03-13T00:34:00"
          ],
          [
           "2021-03-13T08:27:00"
          ],
          [
           "2021-03-13T20:39:00"
          ],
          [
           "2021-03-14T07:05:00"
          ],
          [
           "2021-03-14T20:12:00"
          ],
          [
           "2021-03-15T07:01:00"
          ],
          [
           "2021-03-16T06:51:00"
          ],
          [
           "2021-03-17T00:14:00"
          ],
          [
           "2021-03-17T11:56:00"
          ],
          [
           "2021-03-17T23:36:00"
          ],
          [
           "2021-03-18T08:02:00"
          ],
          [
           "2021-03-19T07:25:00"
          ],
          [
           "2021-03-20T08:16:00"
          ],
          [
           "2021-03-20T23:45:00"
          ],
          [
           "2021-03-21T09:02:00"
          ],
          [
           "2021-03-22T08:27:00"
          ],
          [
           "2021-03-23T08:42:00"
          ],
          [
           "2021-03-24T00:05:00"
          ],
          [
           "2021-03-24T14:31:00"
          ],
          [
           "2021-03-25T00:47:00"
          ],
          [
           "2021-03-25T09:15:00"
          ],
          [
           "2021-03-25T16:20:00"
          ],
          [
           "2021-03-26T00:31:00"
          ],
          [
           "2021-03-26T08:48:00"
          ],
          [
           "2021-03-28T07:48:00"
          ],
          [
           "2021-03-30T00:29:00"
          ],
          [
           "2021-03-30T08:23:00"
          ],
          [
           "2021-03-31T00:27:00"
          ],
          [
           "2021-03-31T11:12:00"
          ],
          [
           "2021-04-01T08:00:00"
          ],
          [
           "2021-04-01T22:50:00"
          ],
          [
           "2021-04-02T09:35:00"
          ],
          [
           "2021-04-03T00:28:00"
          ],
          [
           "2021-04-03T10:05:00"
          ],
          [
           "2021-04-04T12:21:00"
          ],
          [
           "2021-04-05T00:35:00"
          ],
          [
           "2021-04-05T07:01:00"
          ],
          [
           "2021-04-06T00:14:00"
          ],
          [
           "2021-04-06T11:54:00"
          ],
          [
           "2021-04-07T10:12:00"
          ],
          [
           "2021-04-07T23:51:00"
          ],
          [
           "2021-04-08T08:28:00"
          ],
          [
           "2021-04-08T19:02:00"
          ],
          [
           "2021-04-10T09:02:00"
          ],
          [
           "2021-04-11T01:25:00"
          ],
          [
           "2021-04-11T09:19:00"
          ],
          [
           "2021-04-12T00:18:00"
          ],
          [
           "2021-04-12T14:40:00"
          ],
          [
           "2021-04-12T23:38:00"
          ],
          [
           "2021-04-14T00:33:00"
          ],
          [
           "2021-04-14T09:18:00"
          ],
          [
           "2021-04-15T19:09:00"
          ],
          [
           "2021-04-16T08:33:00"
          ],
          [
           "2021-04-18T00:51:00"
          ],
          [
           "2021-04-18T09:16:00"
          ],
          [
           "2021-04-19T08:33:00"
          ],
          [
           "2021-04-21T09:10:00"
          ],
          [
           "2021-04-22T08:21:00"
          ],
          [
           "2021-04-22T23:59:00"
          ],
          [
           "2021-04-26T01:36:00"
          ],
          [
           "2021-04-26T23:52:00"
          ],
          [
           "2021-04-29T08:29:00"
          ],
          [
           "2021-04-29T20:35:00"
          ],
          [
           "2021-04-30T05:41:00"
          ],
          [
           "2021-05-01T00:01:00"
          ],
          [
           "2021-05-01T08:41:00"
          ],
          [
           "2021-05-01T22:07:00"
          ],
          [
           "2021-05-02T07:11:00"
          ],
          [
           "2021-05-02T23:44:00"
          ],
          [
           "2021-05-03T08:20:00"
          ],
          [
           "2021-05-04T00:29:00"
          ],
          [
           "2021-05-05T00:30:00"
          ],
          [
           "2021-05-05T07:11:00"
          ],
          [
           "2021-05-06T07:26:00"
          ],
          [
           "2021-05-06T23:33:00"
          ],
          [
           "2021-05-07T07:59:00"
          ],
          [
           "2021-05-08T02:54:00"
          ],
          [
           "2021-05-08T08:06:00"
          ],
          [
           "2021-05-08T21:46:00"
          ],
          [
           "2021-05-10T01:45:00"
          ],
          [
           "2021-05-10T08:26:00"
          ],
          [
           "2021-05-11T07:59:00"
          ],
          [
           "2021-05-14T00:08:00"
          ],
          [
           "2021-05-14T08:36:00"
          ],
          [
           "2021-05-15T23:43:00"
          ],
          [
           "2021-05-16T08:41:00"
          ],
          [
           "2021-05-16T19:47:00"
          ],
          [
           "2021-05-17T00:59:00"
          ],
          [
           "2021-05-17T23:58:00"
          ],
          [
           "2021-05-20T11:35:00"
          ],
          [
           "2021-05-21T00:02:00"
          ],
          [
           "2021-05-21T13:12:00"
          ],
          [
           "2021-05-23T09:29:00"
          ],
          [
           "2021-05-24T20:00:00"
          ],
          [
           "2021-05-25T09:36:00"
          ],
          [
           "2022-12-01T09:49:00"
          ],
          [
           "2022-12-03T15:38:00"
          ],
          [
           "2022-12-04T18:56:00"
          ],
          [
           "2022-12-05T16:10:00"
          ],
          [
           "2022-12-07T14:39:00"
          ],
          [
           "2022-12-11T18:11:00"
          ],
          [
           "2022-12-14T10:17:00"
          ],
          [
           "2022-12-15T18:44:00"
          ],
          [
           "2022-12-16T08:28:00"
          ],
          [
           "2022-12-16T17:26:00"
          ],
          [
           "2022-12-17T11:54:00"
          ],
          [
           "2022-12-18T08:31:00"
          ],
          [
           "2022-12-19T07:17:00"
          ],
          [
           "2022-12-20T10:55:00"
          ],
          [
           "2022-12-21T08:13:00"
          ],
          [
           "2022-12-22T07:31:00"
          ],
          [
           "2022-12-23T10:39:00"
          ],
          [
           "2022-12-23T13:03:00"
          ],
          [
           "2022-12-23T17:47:00"
          ],
          [
           "2022-12-24T07:44:00"
          ],
          [
           "2022-12-24T10:17:00"
          ]
         ],
         "hovertemplate": "minutes=%{x}<br>consumption_per_day=%{y}<br>date=%{customdata[0]}<extra></extra>",
         "legendgroup": "",
         "marker": {
          "color": "#636efa",
          "symbol": "circle"
         },
         "mode": "markers",
         "name": "",
         "orientation": "v",
         "showlegend": false,
         "type": "scatter",
         "x": [
          628,
          384,
          439,
          425,
          358,
          220,
          447,
          320,
          830,
          375,
          845,
          659,
          1435,
          1337,
          977,
          1010,
          432,
          500,
          662,
          916,
          739,
          498,
          2979,
          377,
          802,
          643,
          960,
          869,
          671,
          163,
          308,
          947,
          989,
          412,
          745,
          227,
          484,
          1411,
          713,
          334,
          421,
          57,
          178,
          180,
          1137,
          814,
          685,
          406,
          899,
          422,
          279,
          168,
          35,
          406,
          1069,
          507,
          1191,
          969,
          681,
          839,
          594,
          930,
          600,
          326,
          532,
          706,
          678,
          1376,
          176,
          440,
          70,
          129,
          78,
          87,
          506,
          559,
          353,
          622,
          1320,
          593,
          222,
          173,
          108,
          1019,
          103,
          1301,
          931,
          450,
          538,
          156,
          294,
          535,
          337,
          539,
          414,
          1017,
          630,
          835,
          495,
          361,
          233,
          393,
          379,
          708,
          375,
          417,
          380,
          611,
          530,
          664,
          226,
          467,
          363,
          494,
          106,
          506,
          104,
          350,
          475,
          544,
          872,
          515,
          117,
          789,
          339,
          90,
          627,
          100,
          291,
          465,
          865,
          147,
          608,
          500,
          395,
          433,
          261,
          302,
          851,
          525,
          198,
          689,
          895,
          80,
          482,
          320,
          1073,
          845,
          159,
          498,
          344,
          358,
          735,
          824,
          182,
          402,
          803,
          149,
          612,
          204,
          435,
          723,
          715,
          252,
          1034,
          955,
          744,
          554,
          457,
          520,
          476,
          978,
          526,
          349,
          1034,
          1505,
          600,
          296,
          644,
          857,
          555,
          669,
          1475,
          650,
          116,
          88,
          163,
          555,
          284,
          252,
          947,
          403,
          552,
          498,
          465,
          731,
          169,
          569,
          1322,
          809,
          203,
          485,
          971,
          1174,
          234,
          1264,
          2085,
          979,
          426,
          209,
          564,
          762,
          1441,
          727,
          180,
          1379,
          530,
          876,
          590,
          1005,
          595,
          1437,
          1618,
          621,
          562,
          1559,
          731,
          505,
          1467,
          777,
          552,
          1508,
          1382,
          669,
          291,
          480,
          3124,
          824,
          473,
          732,
          626,
          787,
          649,
          1430,
          1043,
          702,
          700,
          506,
          1403,
          1491,
          929,
          557,
          1405,
          1455,
          923,
          866,
          616,
          508,
          425,
          491,
          497,
          2820,
          2441,
          474,
          964,
          645,
          1248,
          890,
          645,
          893,
          577,
          1576,
          734,
          386,
          1033,
          700,
          1338,
          819,
          517,
          634,
          2280,
          983,
          474,
          899,
          862,
          538,
          1495,
          525,
          2031,
          804,
          2418,
          505,
          1397,
          2917,
          1391,
          938,
          4417,
          1336,
          3397,
          726,
          546,
          1100,
          520,
          806,
          544,
          993,
          516,
          969,
          1441,
          401,
          1455,
          967,
          506,
          1135,
          312,
          820,
          1679,
          401,
          1413,
          3849,
          508,
          2347,
          538,
          666,
          312,
          1379,
          3577,
          747,
          790,
          2657,
          2071,
          816,
          1135,
          3229,
          1638,
          1274,
          2789,
          5972,
          3846,
          1947,
          824,
          538,
          1108,
          1237,
          1366,
          1658,
          1278,
          1398,
          1628,
          144,
          284,
          837,
          153
         ],
         "xaxis": "x",
         "y": [
          6.8789808917197455,
          11.25,
          6.560364464692483,
          10.16470588235294,
          16.089385474860336,
          13.090909090909092,
          0,
          22.5,
          6.9397590361445785,
          3.84,
          15.337278106508876,
          6.555386949924127,
          10.034843205574912,
          8.616305160807778,
          13.265097236438075,
          9.98019801980198,
          6.666666666666667,
          5.76,
          10.876132930513595,
          11.004366812227074,
          15.588633288227335,
          2.891566265060241,
          8.700906344410877,
          7.639257294429708,
          8.977556109725686,
          13.437013996889581,
          6,
          11.599539700805524,
          10.730253353204173,
          8.83435582822086,
          9.35064935064935,
          12.164730728616684,
          14.560161779575328,
          0,
          11.59731543624161,
          12.687224669603523,
          5.950413223140496,
          11.226080793763288,
          12.11781206171108,
          12.934131736526947,
          3.4204275534441804,
          25.263157894736842,
          0,
          8,
          11.398416886543536,
          10.614250614250615,
          4.204379562043796,
          14.187192118226601,
          9.610678531701891,
          10.236966824644549,
          20.64516129032258,
          8.571428571428571,
          41.142857142857146,
          3.5467980295566504,
          14.81758652946679,
          5.680473372781065,
          8.463476070528968,
          13.374613003095975,
          4.229074889867841,
          12.01430274135876,
          4.848484848484849,
          10.838709677419354,
          4.8,
          17.66871165644172,
          10.827067669172932,
          4.079320113314448,
          16.991150442477878,
          8.372093023255815,
          8.181818181818182,
          6.545454545454546,
          0,
          22.325581395348838,
          0,
          33.10344827586207,
          14.229249011857707,
          7.728085867620751,
          4.079320113314448,
          16.205787781350484,
          9.818181818181818,
          4.856661045531197,
          12.972972972972974,
          8.323699421965317,
          13.333333333333334,
          8.478900883218841,
          13.980582524271844,
          8.854727132974634,
          13.920515574650913,
          3.2,
          16.059479553903344,
          9.23076923076923,
          14.693877551020408,
          10.766355140186915,
          4.27299703264095,
          16.02968460111317,
          6.956521739130435,
          9.91150442477876,
          6.857142857142857,
          8.622754491017965,
          5.818181818181818,
          11.966759002770083,
          6.180257510729613,
          14.65648854961832,
          7.598944591029023,
          10.169491525423728,
          11.52,
          3.4532374100719423,
          7.578947368421052,
          14.14075286415712,
          2.7169811320754715,
          10.843373493975903,
          19.115044247787612,
          3.0835117773019274,
          7.933884297520661,
          11.65991902834008,
          13.584905660377359,
          2.8458498023715415,
          13.846153846153847,
          8.228571428571428,
          6.063157894736842,
          2.6470588235294117,
          14.862385321100918,
          0,
          12.307692307692308,
          12.775665399239545,
          0,
          16,
          11.483253588516746,
          28.8,
          9.896907216494846,
          6.193548387096774,
          11.653179190751445,
          9.795918367346939,
          4.7368421052631575,
          14.4,
          7.291139240506329,
          3.325635103926097,
          11.03448275862069,
          9.536423841059603,
          6.7685076380728555,
          10.971428571428572,
          7.2727272727272725,
          6.269956458635704,
          11.262569832402235,
          0,
          2.987551867219917,
          9,
          8.052190121155638,
          11.928994082840237,
          9.056603773584905,
          2.891566265060241,
          12.55813953488372,
          12.067039106145252,
          3.9183673469387754,
          15.728155339805825,
          7.912087912087912,
          3.582089552238806,
          16.13947696139477,
          0,
          7.0588235294117645,
          14.117647058823529,
          19.862068965517242,
          1.991701244813278,
          12.083916083916083,
          11.428571428571429,
          6.963249516441006,
          6.031413612565445,
          11.612903225806452,
          5.1985559566787005,
          12.603938730853391,
          16.615384615384617,
          3.0252100840336134,
          14.723926380368098,
          2.7376425855513307,
          24.75644699140401,
          5.570599613152805,
          8.611295681063122,
          12,
          9.72972972972973,
          4.472049689440993,
          11.76196032672112,
          5.1891891891891895,
          17.219730941704036,
          6.8338983050847455,
          2.2153846153846155,
          12.413793103448276,
          16.363636363636363,
          17.66871165644172,
          10.378378378378379,
          5.070422535211268,
          11.428571428571429,
          12.164730728616684,
          3.5732009925558312,
          15.652173913043478,
          17.349397590361445,
          3.096774193548387,
          9.849521203830369,
          8.520710059171599,
          2.530755711775044,
          10.892586989409985,
          10.679851668726823,
          14.187192118226601,
          0,
          13.347064881565396,
          11.039182282793867,
          12.307692307692308,
          10.253164556962025,
          6.906474820143885,
          14.708886618998978,
          0,
          6.889952153110048,
          12.76595744680851,
          7.559055118110236,
          6.9951422623178345,
          15.845942228335625,
          8,
          9.39811457577955,
          5.433962264150943,
          11.506849315068493,
          2.440677966101695,
          8.597014925373134,
          4.840336134453781,
          7.014613778705637,
          10.679851668726823,
          13.91304347826087,
          5.124555160142349,
          9.236690186016677,
          11.819425444596444,
          5.702970297029703,
          9.815950920245399,
          12.972972972972974,
          2.608695652173913,
          8.594164456233422,
          10.419681620839363,
          17.219730941704036,
          9.896907216494846,
          3,
          8.297055057618438,
          13.980582524271844,
          6.088794926004228,
          7.868852459016393,
          6.900958466453674,
          9.148665819567979,
          6.656394453004623,
          9.062937062937063,
          11.045062320230105,
          4.102564102564102,
          8.228571428571428,
          8.537549407114625,
          8.210976478973627,
          8.69215291750503,
          13.95048439181916,
          5.170556552962298,
          7.174377224199288,
          6.927835051546392,
          12.48104008667389,
          9.97690531177829,
          9.35064935064935,
          2.8346456692913384,
          3.388235294117647,
          17.596741344195518,
          2.89738430583501,
          8.170212765957446,
          7.079065956575174,
          6.075949367088608,
          10.45643153526971,
          4.465116279069767,
          9.23076923076923,
          11.325842696629213,
          2.2325581395348837,
          16.12541993281075,
          2.4956672443674175,
          8.223350253807107,
          13.732970027247957,
          3.7305699481865284,
          9.757986447241045,
          6.171428571428572,
          10.762331838565023,
          8.791208791208792,
          5.570599613152805,
          20.441640378548897,
          5.684210526315789,
          13.18413021363174,
          3.037974683544304,
          11.21245828698554,
          6.682134570765661,
          13.382899628252789,
          9.632107023411372,
          0,
          9.926144756277695,
          5.373134328358209,
          10.124069478908188,
          5.702970297029703,
          8.246241947029349,
          9.379499485773055,
          5.176132278936017,
          10.746268656716419,
          9.1283676703645,
          10.778443113772456,
          8.0541654400942,
          7.933884297520661,
          2.6373626373626373,
          10.472727272727273,
          2.769230769230769,
          10.719602977667494,
          2.6470588235294117,
          7.2507552870090635,
          2.7906976744186047,
          10.402476780185758,
          5.995836224843859,
          3.5910224438902745,
          7.917525773195877,
          5.956566701137539,
          2.8458498023715415,
          6.343612334801762,
          4.615384615384615,
          8.78048780487805,
          7.718880285884455,
          3.5910224438902745,
          10.19108280254777,
          7.856586126266563,
          2.8346456692913384,
          6.135492117596932,
          2.676579925650558,
          6.486486486486487,
          9.23076923076923,
          5.221174764321972,
          5.636007827788649,
          7.710843373493976,
          3.6455696202531644,
          5.961610839292435,
          7.648478995654274,
          3.5294117647058822,
          8.881057268722467,
          10.25704552493032,
          9.67032967032967,
          10.172684458398743,
          10.326281821441377,
          8.921634293369056,
          10.48361934477379,
          13.312788906009246,
          5.242718446601942,
          16.059479553903344,
          7.79783393501805,
          11.6410670978173,
          8.433382137628112,
          12.159227985524728,
          9.014084507042254,
          10.300429184549357,
          7.96068796068796,
          30,
          15.211267605633802,
          6.881720430107527,
          18.823529411764707
         ],
         "yaxis": "y"
        },
        {
         "alignmentgroup": "True",
         "bingroup": "x",
         "hovertemplate": "minutes=%{x}<br>count=%{y}<extra></extra>",
         "legendgroup": "",
         "marker": {
          "color": "#636efa"
         },
         "name": "",
         "offsetgroup": "",
         "opacity": 0.5,
         "showlegend": false,
         "type": "histogram",
         "x": [
          628,
          384,
          439,
          425,
          358,
          220,
          447,
          320,
          830,
          375,
          845,
          659,
          1435,
          1337,
          977,
          1010,
          432,
          500,
          662,
          916,
          739,
          498,
          2979,
          377,
          802,
          643,
          960,
          869,
          671,
          163,
          308,
          947,
          989,
          412,
          745,
          227,
          484,
          1411,
          713,
          334,
          421,
          57,
          178,
          180,
          1137,
          814,
          685,
          406,
          899,
          422,
          279,
          168,
          35,
          406,
          1069,
          507,
          1191,
          969,
          681,
          839,
          594,
          930,
          600,
          326,
          532,
          706,
          678,
          1376,
          176,
          440,
          70,
          129,
          78,
          87,
          506,
          559,
          353,
          622,
          1320,
          593,
          222,
          173,
          108,
          1019,
          103,
          1301,
          931,
          450,
          538,
          156,
          294,
          535,
          337,
          539,
          414,
          1017,
          630,
          835,
          495,
          361,
          233,
          393,
          379,
          708,
          375,
          417,
          380,
          611,
          530,
          664,
          226,
          467,
          363,
          494,
          106,
          506,
          104,
          350,
          475,
          544,
          872,
          515,
          117,
          789,
          339,
          90,
          627,
          100,
          291,
          465,
          865,
          147,
          608,
          500,
          395,
          433,
          261,
          302,
          851,
          525,
          198,
          689,
          895,
          80,
          482,
          320,
          1073,
          845,
          159,
          498,
          344,
          358,
          735,
          824,
          182,
          402,
          803,
          149,
          612,
          204,
          435,
          723,
          715,
          252,
          1034,
          955,
          744,
          554,
          457,
          520,
          476,
          978,
          526,
          349,
          1034,
          1505,
          600,
          296,
          644,
          857,
          555,
          669,
          1475,
          650,
          116,
          88,
          163,
          555,
          284,
          252,
          947,
          403,
          552,
          498,
          465,
          731,
          169,
          569,
          1322,
          809,
          203,
          485,
          971,
          1174,
          234,
          1264,
          2085,
          979,
          426,
          209,
          564,
          762,
          1441,
          727,
          180,
          1379,
          530,
          876,
          590,
          1005,
          595,
          1437,
          1618,
          621,
          562,
          1559,
          731,
          505,
          1467,
          777,
          552,
          1508,
          1382,
          669,
          291,
          480,
          3124,
          824,
          473,
          732,
          626,
          787,
          649,
          1430,
          1043,
          702,
          700,
          506,
          1403,
          1491,
          929,
          557,
          1405,
          1455,
          923,
          866,
          616,
          508,
          425,
          491,
          497,
          2820,
          2441,
          474,
          964,
          645,
          1248,
          890,
          645,
          893,
          577,
          1576,
          734,
          386,
          1033,
          700,
          1338,
          819,
          517,
          634,
          2280,
          983,
          474,
          899,
          862,
          538,
          1495,
          525,
          2031,
          804,
          2418,
          505,
          1397,
          2917,
          1391,
          938,
          4417,
          1336,
          3397,
          726,
          546,
          1100,
          520,
          806,
          544,
          993,
          516,
          969,
          1441,
          401,
          1455,
          967,
          506,
          1135,
          312,
          820,
          1679,
          401,
          1413,
          3849,
          508,
          2347,
          538,
          666,
          312,
          1379,
          3577,
          747,
          790,
          2657,
          2071,
          816,
          1135,
          3229,
          1638,
          1274,
          2789,
          5972,
          3846,
          1947,
          824,
          538,
          1108,
          1237,
          1366,
          1658,
          1278,
          1398,
          1628,
          144,
          284,
          837,
          153
         ],
         "xaxis": "x3",
         "yaxis": "y3"
        },
        {
         "alignmentgroup": "True",
         "bingroup": "y",
         "hovertemplate": "consumption_per_day=%{y}<br>count=%{x}<extra></extra>",
         "legendgroup": "",
         "marker": {
          "color": "#636efa"
         },
         "name": "",
         "offsetgroup": "",
         "opacity": 0.5,
         "showlegend": false,
         "type": "histogram",
         "xaxis": "x2",
         "y": [
          6.8789808917197455,
          11.25,
          6.560364464692483,
          10.16470588235294,
          16.089385474860336,
          13.090909090909092,
          0,
          22.5,
          6.9397590361445785,
          3.84,
          15.337278106508876,
          6.555386949924127,
          10.034843205574912,
          8.616305160807778,
          13.265097236438075,
          9.98019801980198,
          6.666666666666667,
          5.76,
          10.876132930513595,
          11.004366812227074,
          15.588633288227335,
          2.891566265060241,
          8.700906344410877,
          7.639257294429708,
          8.977556109725686,
          13.437013996889581,
          6,
          11.599539700805524,
          10.730253353204173,
          8.83435582822086,
          9.35064935064935,
          12.164730728616684,
          14.560161779575328,
          0,
          11.59731543624161,
          12.687224669603523,
          5.950413223140496,
          11.226080793763288,
          12.11781206171108,
          12.934131736526947,
          3.4204275534441804,
          25.263157894736842,
          0,
          8,
          11.398416886543536,
          10.614250614250615,
          4.204379562043796,
          14.187192118226601,
          9.610678531701891,
          10.236966824644549,
          20.64516129032258,
          8.571428571428571,
          41.142857142857146,
          3.5467980295566504,
          14.81758652946679,
          5.680473372781065,
          8.463476070528968,
          13.374613003095975,
          4.229074889867841,
          12.01430274135876,
          4.848484848484849,
          10.838709677419354,
          4.8,
          17.66871165644172,
          10.827067669172932,
          4.079320113314448,
          16.991150442477878,
          8.372093023255815,
          8.181818181818182,
          6.545454545454546,
          0,
          22.325581395348838,
          0,
          33.10344827586207,
          14.229249011857707,
          7.728085867620751,
          4.079320113314448,
          16.205787781350484,
          9.818181818181818,
          4.856661045531197,
          12.972972972972974,
          8.323699421965317,
          13.333333333333334,
          8.478900883218841,
          13.980582524271844,
          8.854727132974634,
          13.920515574650913,
          3.2,
          16.059479553903344,
          9.23076923076923,
          14.693877551020408,
          10.766355140186915,
          4.27299703264095,
          16.02968460111317,
          6.956521739130435,
          9.91150442477876,
          6.857142857142857,
          8.622754491017965,
          5.818181818181818,
          11.966759002770083,
          6.180257510729613,
          14.65648854961832,
          7.598944591029023,
          10.169491525423728,
          11.52,
          3.4532374100719423,
          7.578947368421052,
          14.14075286415712,
          2.7169811320754715,
          10.843373493975903,
          19.115044247787612,
          3.0835117773019274,
          7.933884297520661,
          11.65991902834008,
          13.584905660377359,
          2.8458498023715415,
          13.846153846153847,
          8.228571428571428,
          6.063157894736842,
          2.6470588235294117,
          14.862385321100918,
          0,
          12.307692307692308,
          12.775665399239545,
          0,
          16,
          11.483253588516746,
          28.8,
          9.896907216494846,
          6.193548387096774,
          11.653179190751445,
          9.795918367346939,
          4.7368421052631575,
          14.4,
          7.291139240506329,
          3.325635103926097,
          11.03448275862069,
          9.536423841059603,
          6.7685076380728555,
          10.971428571428572,
          7.2727272727272725,
          6.269956458635704,
          11.262569832402235,
          0,
          2.987551867219917,
          9,
          8.052190121155638,
          11.928994082840237,
          9.056603773584905,
          2.891566265060241,
          12.55813953488372,
          12.067039106145252,
          3.9183673469387754,
          15.728155339805825,
          7.912087912087912,
          3.582089552238806,
          16.13947696139477,
          0,
          7.0588235294117645,
          14.117647058823529,
          19.862068965517242,
          1.991701244813278,
          12.083916083916083,
          11.428571428571429,
          6.963249516441006,
          6.031413612565445,
          11.612903225806452,
          5.1985559566787005,
          12.603938730853391,
          16.615384615384617,
          3.0252100840336134,
          14.723926380368098,
          2.7376425855513307,
          24.75644699140401,
          5.570599613152805,
          8.611295681063122,
          12,
          9.72972972972973,
          4.472049689440993,
          11.76196032672112,
          5.1891891891891895,
          17.219730941704036,
          6.8338983050847455,
          2.2153846153846155,
          12.413793103448276,
          16.363636363636363,
          17.66871165644172,
          10.378378378378379,
          5.070422535211268,
          11.428571428571429,
          12.164730728616684,
          3.5732009925558312,
          15.652173913043478,
          17.349397590361445,
          3.096774193548387,
          9.849521203830369,
          8.520710059171599,
          2.530755711775044,
          10.892586989409985,
          10.679851668726823,
          14.187192118226601,
          0,
          13.347064881565396,
          11.039182282793867,
          12.307692307692308,
          10.253164556962025,
          6.906474820143885,
          14.708886618998978,
          0,
          6.889952153110048,
          12.76595744680851,
          7.559055118110236,
          6.9951422623178345,
          15.845942228335625,
          8,
          9.39811457577955,
          5.433962264150943,
          11.506849315068493,
          2.440677966101695,
          8.597014925373134,
          4.840336134453781,
          7.014613778705637,
          10.679851668726823,
          13.91304347826087,
          5.124555160142349,
          9.236690186016677,
          11.819425444596444,
          5.702970297029703,
          9.815950920245399,
          12.972972972972974,
          2.608695652173913,
          8.594164456233422,
          10.419681620839363,
          17.219730941704036,
          9.896907216494846,
          3,
          8.297055057618438,
          13.980582524271844,
          6.088794926004228,
          7.868852459016393,
          6.900958466453674,
          9.148665819567979,
          6.656394453004623,
          9.062937062937063,
          11.045062320230105,
          4.102564102564102,
          8.228571428571428,
          8.537549407114625,
          8.210976478973627,
          8.69215291750503,
          13.95048439181916,
          5.170556552962298,
          7.174377224199288,
          6.927835051546392,
          12.48104008667389,
          9.97690531177829,
          9.35064935064935,
          2.8346456692913384,
          3.388235294117647,
          17.596741344195518,
          2.89738430583501,
          8.170212765957446,
          7.079065956575174,
          6.075949367088608,
          10.45643153526971,
          4.465116279069767,
          9.23076923076923,
          11.325842696629213,
          2.2325581395348837,
          16.12541993281075,
          2.4956672443674175,
          8.223350253807107,
          13.732970027247957,
          3.7305699481865284,
          9.757986447241045,
          6.171428571428572,
          10.762331838565023,
          8.791208791208792,
          5.570599613152805,
          20.441640378548897,
          5.684210526315789,
          13.18413021363174,
          3.037974683544304,
          11.21245828698554,
          6.682134570765661,
          13.382899628252789,
          9.632107023411372,
          0,
          9.926144756277695,
          5.373134328358209,
          10.124069478908188,
          5.702970297029703,
          8.246241947029349,
          9.379499485773055,
          5.176132278936017,
          10.746268656716419,
          9.1283676703645,
          10.778443113772456,
          8.0541654400942,
          7.933884297520661,
          2.6373626373626373,
          10.472727272727273,
          2.769230769230769,
          10.719602977667494,
          2.6470588235294117,
          7.2507552870090635,
          2.7906976744186047,
          10.402476780185758,
          5.995836224843859,
          3.5910224438902745,
          7.917525773195877,
          5.956566701137539,
          2.8458498023715415,
          6.343612334801762,
          4.615384615384615,
          8.78048780487805,
          7.718880285884455,
          3.5910224438902745,
          10.19108280254777,
          7.856586126266563,
          2.8346456692913384,
          6.135492117596932,
          2.676579925650558,
          6.486486486486487,
          9.23076923076923,
          5.221174764321972,
          5.636007827788649,
          7.710843373493976,
          3.6455696202531644,
          5.961610839292435,
          7.648478995654274,
          3.5294117647058822,
          8.881057268722467,
          10.25704552493032,
          9.67032967032967,
          10.172684458398743,
          10.326281821441377,
          8.921634293369056,
          10.48361934477379,
          13.312788906009246,
          5.242718446601942,
          16.059479553903344,
          7.79783393501805,
          11.6410670978173,
          8.433382137628112,
          12.159227985524728,
          9.014084507042254,
          10.300429184549357,
          7.96068796068796,
          30,
          15.211267605633802,
          6.881720430107527,
          18.823529411764707
         ],
         "yaxis": "y2"
        }
       ],
       "layout": {
        "barmode": "overlay",
        "legend": {
         "tracegroupgap": 0
        },
        "margin": {
         "t": 60
        },
        "template": {
         "data": {
          "bar": [
           {
            "error_x": {
             "color": "#2a3f5f"
            },
            "error_y": {
             "color": "#2a3f5f"
            },
            "marker": {
             "line": {
              "color": "#E5ECF6",
              "width": 0.5
             },
             "pattern": {
              "fillmode": "overlay",
              "size": 10,
              "solidity": 0.2
             }
            },
            "type": "bar"
           }
          ],
          "barpolar": [
           {
            "marker": {
             "line": {
              "color": "#E5ECF6",
              "width": 0.5
             },
             "pattern": {
              "fillmode": "overlay",
              "size": 10,
              "solidity": 0.2
             }
            },
            "type": "barpolar"
           }
          ],
          "carpet": [
           {
            "aaxis": {
             "endlinecolor": "#2a3f5f",
             "gridcolor": "white",
             "linecolor": "white",
             "minorgridcolor": "white",
             "startlinecolor": "#2a3f5f"
            },
            "baxis": {
             "endlinecolor": "#2a3f5f",
             "gridcolor": "white",
             "linecolor": "white",
             "minorgridcolor": "white",
             "startlinecolor": "#2a3f5f"
            },
            "type": "carpet"
           }
          ],
          "choropleth": [
           {
            "colorbar": {
             "outlinewidth": 0,
             "ticks": ""
            },
            "type": "choropleth"
           }
          ],
          "contour": [
           {
            "colorbar": {
             "outlinewidth": 0,
             "ticks": ""
            },
            "colorscale": [
             [
              0,
              "#0d0887"
             ],
             [
              0.1111111111111111,
              "#46039f"
             ],
             [
              0.2222222222222222,
              "#7201a8"
             ],
             [
              0.3333333333333333,
              "#9c179e"
             ],
             [
              0.4444444444444444,
              "#bd3786"
             ],
             [
              0.5555555555555556,
              "#d8576b"
             ],
             [
              0.6666666666666666,
              "#ed7953"
             ],
             [
              0.7777777777777778,
              "#fb9f3a"
             ],
             [
              0.8888888888888888,
              "#fdca26"
             ],
             [
              1,
              "#f0f921"
             ]
            ],
            "type": "contour"
           }
          ],
          "contourcarpet": [
           {
            "colorbar": {
             "outlinewidth": 0,
             "ticks": ""
            },
            "type": "contourcarpet"
           }
          ],
          "heatmap": [
           {
            "colorbar": {
             "outlinewidth": 0,
             "ticks": ""
            },
            "colorscale": [
             [
              0,
              "#0d0887"
             ],
             [
              0.1111111111111111,
              "#46039f"
             ],
             [
              0.2222222222222222,
              "#7201a8"
             ],
             [
              0.3333333333333333,
              "#9c179e"
             ],
             [
              0.4444444444444444,
              "#bd3786"
             ],
             [
              0.5555555555555556,
              "#d8576b"
             ],
             [
              0.6666666666666666,
              "#ed7953"
             ],
             [
              0.7777777777777778,
              "#fb9f3a"
             ],
             [
              0.8888888888888888,
              "#fdca26"
             ],
             [
              1,
              "#f0f921"
             ]
            ],
            "type": "heatmap"
           }
          ],
          "heatmapgl": [
           {
            "colorbar": {
             "outlinewidth": 0,
             "ticks": ""
            },
            "colorscale": [
             [
              0,
              "#0d0887"
             ],
             [
              0.1111111111111111,
              "#46039f"
             ],
             [
              0.2222222222222222,
              "#7201a8"
             ],
             [
              0.3333333333333333,
              "#9c179e"
             ],
             [
              0.4444444444444444,
              "#bd3786"
             ],
             [
              0.5555555555555556,
              "#d8576b"
             ],
             [
              0.6666666666666666,
              "#ed7953"
             ],
             [
              0.7777777777777778,
              "#fb9f3a"
             ],
             [
              0.8888888888888888,
              "#fdca26"
             ],
             [
              1,
              "#f0f921"
             ]
            ],
            "type": "heatmapgl"
           }
          ],
          "histogram": [
           {
            "marker": {
             "pattern": {
              "fillmode": "overlay",
              "size": 10,
              "solidity": 0.2
             }
            },
            "type": "histogram"
           }
          ],
          "histogram2d": [
           {
            "colorbar": {
             "outlinewidth": 0,
             "ticks": ""
            },
            "colorscale": [
             [
              0,
              "#0d0887"
             ],
             [
              0.1111111111111111,
              "#46039f"
             ],
             [
              0.2222222222222222,
              "#7201a8"
             ],
             [
              0.3333333333333333,
              "#9c179e"
             ],
             [
              0.4444444444444444,
              "#bd3786"
             ],
             [
              0.5555555555555556,
              "#d8576b"
             ],
             [
              0.6666666666666666,
              "#ed7953"
             ],
             [
              0.7777777777777778,
              "#fb9f3a"
             ],
             [
              0.8888888888888888,
              "#fdca26"
             ],
             [
              1,
              "#f0f921"
             ]
            ],
            "type": "histogram2d"
           }
          ],
          "histogram2dcontour": [
           {
            "colorbar": {
             "outlinewidth": 0,
             "ticks": ""
            },
            "colorscale": [
             [
              0,
              "#0d0887"
             ],
             [
              0.1111111111111111,
              "#46039f"
             ],
             [
              0.2222222222222222,
              "#7201a8"
             ],
             [
              0.3333333333333333,
              "#9c179e"
             ],
             [
              0.4444444444444444,
              "#bd3786"
             ],
             [
              0.5555555555555556,
              "#d8576b"
             ],
             [
              0.6666666666666666,
              "#ed7953"
             ],
             [
              0.7777777777777778,
              "#fb9f3a"
             ],
             [
              0.8888888888888888,
              "#fdca26"
             ],
             [
              1,
              "#f0f921"
             ]
            ],
            "type": "histogram2dcontour"
           }
          ],
          "mesh3d": [
           {
            "colorbar": {
             "outlinewidth": 0,
             "ticks": ""
            },
            "type": "mesh3d"
           }
          ],
          "parcoords": [
           {
            "line": {
             "colorbar": {
              "outlinewidth": 0,
              "ticks": ""
             }
            },
            "type": "parcoords"
           }
          ],
          "pie": [
           {
            "automargin": true,
            "type": "pie"
           }
          ],
          "scatter": [
           {
            "fillpattern": {
             "fillmode": "overlay",
             "size": 10,
             "solidity": 0.2
            },
            "type": "scatter"
           }
          ],
          "scatter3d": [
           {
            "line": {
             "colorbar": {
              "outlinewidth": 0,
              "ticks": ""
             }
            },
            "marker": {
             "colorbar": {
              "outlinewidth": 0,
              "ticks": ""
             }
            },
            "type": "scatter3d"
           }
          ],
          "scattercarpet": [
           {
            "marker": {
             "colorbar": {
              "outlinewidth": 0,
              "ticks": ""
             }
            },
            "type": "scattercarpet"
           }
          ],
          "scattergeo": [
           {
            "marker": {
             "colorbar": {
              "outlinewidth": 0,
              "ticks": ""
             }
            },
            "type": "scattergeo"
           }
          ],
          "scattergl": [
           {
            "marker": {
             "colorbar": {
              "outlinewidth": 0,
              "ticks": ""
             }
            },
            "type": "scattergl"
           }
          ],
          "scattermapbox": [
           {
            "marker": {
             "colorbar": {
              "outlinewidth": 0,
              "ticks": ""
             }
            },
            "type": "scattermapbox"
           }
          ],
          "scatterpolar": [
           {
            "marker": {
             "colorbar": {
              "outlinewidth": 0,
              "ticks": ""
             }
            },
            "type": "scatterpolar"
           }
          ],
          "scatterpolargl": [
           {
            "marker": {
             "colorbar": {
              "outlinewidth": 0,
              "ticks": ""
             }
            },
            "type": "scatterpolargl"
           }
          ],
          "scatterternary": [
           {
            "marker": {
             "colorbar": {
              "outlinewidth": 0,
              "ticks": ""
             }
            },
            "type": "scatterternary"
           }
          ],
          "surface": [
           {
            "colorbar": {
             "outlinewidth": 0,
             "ticks": ""
            },
            "colorscale": [
             [
              0,
              "#0d0887"
             ],
             [
              0.1111111111111111,
              "#46039f"
             ],
             [
              0.2222222222222222,
              "#7201a8"
             ],
             [
              0.3333333333333333,
              "#9c179e"
             ],
             [
              0.4444444444444444,
              "#bd3786"
             ],
             [
              0.5555555555555556,
              "#d8576b"
             ],
             [
              0.6666666666666666,
              "#ed7953"
             ],
             [
              0.7777777777777778,
              "#fb9f3a"
             ],
             [
              0.8888888888888888,
              "#fdca26"
             ],
             [
              1,
              "#f0f921"
             ]
            ],
            "type": "surface"
           }
          ],
          "table": [
           {
            "cells": {
             "fill": {
              "color": "#EBF0F8"
             },
             "line": {
              "color": "white"
             }
            },
            "header": {
             "fill": {
              "color": "#C8D4E3"
             },
             "line": {
              "color": "white"
             }
            },
            "type": "table"
           }
          ]
         },
         "layout": {
          "annotationdefaults": {
           "arrowcolor": "#2a3f5f",
           "arrowhead": 0,
           "arrowwidth": 1
          },
          "autotypenumbers": "strict",
          "coloraxis": {
           "colorbar": {
            "outlinewidth": 0,
            "ticks": ""
           }
          },
          "colorscale": {
           "diverging": [
            [
             0,
             "#8e0152"
            ],
            [
             0.1,
             "#c51b7d"
            ],
            [
             0.2,
             "#de77ae"
            ],
            [
             0.3,
             "#f1b6da"
            ],
            [
             0.4,
             "#fde0ef"
            ],
            [
             0.5,
             "#f7f7f7"
            ],
            [
             0.6,
             "#e6f5d0"
            ],
            [
             0.7,
             "#b8e186"
            ],
            [
             0.8,
             "#7fbc41"
            ],
            [
             0.9,
             "#4d9221"
            ],
            [
             1,
             "#276419"
            ]
           ],
           "sequential": [
            [
             0,
             "#0d0887"
            ],
            [
             0.1111111111111111,
             "#46039f"
            ],
            [
             0.2222222222222222,
             "#7201a8"
            ],
            [
             0.3333333333333333,
             "#9c179e"
            ],
            [
             0.4444444444444444,
             "#bd3786"
            ],
            [
             0.5555555555555556,
             "#d8576b"
            ],
            [
             0.6666666666666666,
             "#ed7953"
            ],
            [
             0.7777777777777778,
             "#fb9f3a"
            ],
            [
             0.8888888888888888,
             "#fdca26"
            ],
            [
             1,
             "#f0f921"
            ]
           ],
           "sequentialminus": [
            [
             0,
             "#0d0887"
            ],
            [
             0.1111111111111111,
             "#46039f"
            ],
            [
             0.2222222222222222,
             "#7201a8"
            ],
            [
             0.3333333333333333,
             "#9c179e"
            ],
            [
             0.4444444444444444,
             "#bd3786"
            ],
            [
             0.5555555555555556,
             "#d8576b"
            ],
            [
             0.6666666666666666,
             "#ed7953"
            ],
            [
             0.7777777777777778,
             "#fb9f3a"
            ],
            [
             0.8888888888888888,
             "#fdca26"
            ],
            [
             1,
             "#f0f921"
            ]
           ]
          },
          "colorway": [
           "#636efa",
           "#EF553B",
           "#00cc96",
           "#ab63fa",
           "#FFA15A",
           "#19d3f3",
           "#FF6692",
           "#B6E880",
           "#FF97FF",
           "#FECB52"
          ],
          "font": {
           "color": "#2a3f5f"
          },
          "geo": {
           "bgcolor": "white",
           "lakecolor": "white",
           "landcolor": "#E5ECF6",
           "showlakes": true,
           "showland": true,
           "subunitcolor": "white"
          },
          "hoverlabel": {
           "align": "left"
          },
          "hovermode": "closest",
          "mapbox": {
           "style": "light"
          },
          "paper_bgcolor": "white",
          "plot_bgcolor": "#E5ECF6",
          "polar": {
           "angularaxis": {
            "gridcolor": "white",
            "linecolor": "white",
            "ticks": ""
           },
           "bgcolor": "#E5ECF6",
           "radialaxis": {
            "gridcolor": "white",
            "linecolor": "white",
            "ticks": ""
           }
          },
          "scene": {
           "xaxis": {
            "backgroundcolor": "#E5ECF6",
            "gridcolor": "white",
            "gridwidth": 2,
            "linecolor": "white",
            "showbackground": true,
            "ticks": "",
            "zerolinecolor": "white"
           },
           "yaxis": {
            "backgroundcolor": "#E5ECF6",
            "gridcolor": "white",
            "gridwidth": 2,
            "linecolor": "white",
            "showbackground": true,
            "ticks": "",
            "zerolinecolor": "white"
           },
           "zaxis": {
            "backgroundcolor": "#E5ECF6",
            "gridcolor": "white",
            "gridwidth": 2,
            "linecolor": "white",
            "showbackground": true,
            "ticks": "",
            "zerolinecolor": "white"
           }
          },
          "shapedefaults": {
           "line": {
            "color": "#2a3f5f"
           }
          },
          "ternary": {
           "aaxis": {
            "gridcolor": "white",
            "linecolor": "white",
            "ticks": ""
           },
           "baxis": {
            "gridcolor": "white",
            "linecolor": "white",
            "ticks": ""
           },
           "bgcolor": "#E5ECF6",
           "caxis": {
            "gridcolor": "white",
            "linecolor": "white",
            "ticks": ""
           }
          },
          "title": {
           "x": 0.05
          },
          "xaxis": {
           "automargin": true,
           "gridcolor": "white",
           "linecolor": "white",
           "ticks": "",
           "title": {
            "standoff": 15
           },
           "zerolinecolor": "white",
           "zerolinewidth": 2
          },
          "yaxis": {
           "automargin": true,
           "gridcolor": "white",
           "linecolor": "white",
           "ticks": "",
           "title": {
            "standoff": 15
           },
           "zerolinecolor": "white",
           "zerolinewidth": 2
          }
         }
        },
        "xaxis": {
         "anchor": "y",
         "domain": [
          0,
          0.7363
         ],
         "title": {
          "text": "minutes"
         }
        },
        "xaxis2": {
         "anchor": "y2",
         "domain": [
          0.7413,
          1
         ],
         "matches": "x2",
         "showgrid": true,
         "showline": false,
         "showticklabels": false,
         "ticks": ""
        },
        "xaxis3": {
         "anchor": "y3",
         "domain": [
          0,
          0.7363
         ],
         "matches": "x",
         "showgrid": true,
         "showticklabels": false
        },
        "xaxis4": {
         "anchor": "y4",
         "domain": [
          0.7413,
          1
         ],
         "matches": "x2",
         "showgrid": true,
         "showline": false,
         "showticklabels": false,
         "ticks": ""
        },
        "yaxis": {
         "anchor": "x",
         "domain": [
          0,
          0.7326
         ],
         "title": {
          "text": "consumption_per_day"
         }
        },
        "yaxis2": {
         "anchor": "x2",
         "domain": [
          0,
          0.7326
         ],
         "matches": "y",
         "showgrid": true,
         "showticklabels": false
        },
        "yaxis3": {
         "anchor": "x3",
         "domain": [
          0.7426,
          1
         ],
         "matches": "y3",
         "showgrid": true,
         "showline": false,
         "showticklabels": false,
         "ticks": ""
        },
        "yaxis4": {
         "anchor": "x4",
         "domain": [
          0.7426,
          1
         ],
         "matches": "y3",
         "showgrid": true,
         "showline": false,
         "showticklabels": false,
         "ticks": ""
        }
       }
      }
     },
     "metadata": {},
     "output_type": "display_data"
    }
   ],
   "source": [
    "import plotly.express as px\n",
    "fig = px.scatter(strom_df, x=\"minutes\", y=\"consumption_per_day\", hover_data=['date'],\n",
    "marginal_x=\"histogram\", marginal_y=\"histogram\")\n",
    "fig.show()"
   ]
  },
  {
   "cell_type": "code",
   "execution_count": 22,
   "metadata": {},
   "outputs": [
    {
     "data": {
      "text/html": [
       "<div>\n",
       "<style scoped>\n",
       "    .dataframe tbody tr th:only-of-type {\n",
       "        vertical-align: middle;\n",
       "    }\n",
       "\n",
       "    .dataframe tbody tr th {\n",
       "        vertical-align: top;\n",
       "    }\n",
       "\n",
       "    .dataframe thead tr th {\n",
       "        text-align: left;\n",
       "    }\n",
       "\n",
       "    .dataframe thead tr:last-of-type th {\n",
       "        text-align: right;\n",
       "    }\n",
       "</style>\n",
       "<table border=\"1\" class=\"dataframe\">\n",
       "  <thead>\n",
       "    <tr>\n",
       "      <th></th>\n",
       "      <th></th>\n",
       "      <th>value</th>\n",
       "      <th>minutes</th>\n",
       "    </tr>\n",
       "    <tr>\n",
       "      <th></th>\n",
       "      <th></th>\n",
       "      <th>max</th>\n",
       "      <th>sum</th>\n",
       "    </tr>\n",
       "    <tr>\n",
       "      <th>day</th>\n",
       "      <th>hour</th>\n",
       "      <th></th>\n",
       "      <th></th>\n",
       "    </tr>\n",
       "  </thead>\n",
       "  <tbody>\n",
       "    <tr>\n",
       "      <th rowspan=\"5\" valign=\"top\">2020-11-30</th>\n",
       "      <th>17</th>\n",
       "      <td>12165.0</td>\n",
       "      <td>628.0</td>\n",
       "    </tr>\n",
       "    <tr>\n",
       "      <th>18</th>\n",
       "      <td>NaN</td>\n",
       "      <td>0.0</td>\n",
       "    </tr>\n",
       "    <tr>\n",
       "      <th>19</th>\n",
       "      <td>NaN</td>\n",
       "      <td>0.0</td>\n",
       "    </tr>\n",
       "    <tr>\n",
       "      <th>20</th>\n",
       "      <td>NaN</td>\n",
       "      <td>0.0</td>\n",
       "    </tr>\n",
       "    <tr>\n",
       "      <th>21</th>\n",
       "      <td>NaN</td>\n",
       "      <td>0.0</td>\n",
       "    </tr>\n",
       "    <tr>\n",
       "      <th>...</th>\n",
       "      <th>...</th>\n",
       "      <td>...</td>\n",
       "      <td>...</td>\n",
       "    </tr>\n",
       "    <tr>\n",
       "      <th rowspan=\"5\" valign=\"top\">2022-12-24</th>\n",
       "      <th>6</th>\n",
       "      <td>NaN</td>\n",
       "      <td>0.0</td>\n",
       "    </tr>\n",
       "    <tr>\n",
       "      <th>7</th>\n",
       "      <td>18711.0</td>\n",
       "      <td>837.0</td>\n",
       "    </tr>\n",
       "    <tr>\n",
       "      <th>8</th>\n",
       "      <td>NaN</td>\n",
       "      <td>0.0</td>\n",
       "    </tr>\n",
       "    <tr>\n",
       "      <th>9</th>\n",
       "      <td>NaN</td>\n",
       "      <td>0.0</td>\n",
       "    </tr>\n",
       "    <tr>\n",
       "      <th>10</th>\n",
       "      <td>18713.0</td>\n",
       "      <td>153.0</td>\n",
       "    </tr>\n",
       "  </tbody>\n",
       "</table>\n",
       "<p>18090 rows × 2 columns</p>\n",
       "</div>"
      ],
      "text/plain": [
       "                   value minutes\n",
       "                     max     sum\n",
       "day        hour                 \n",
       "2020-11-30 17    12165.0   628.0\n",
       "           18        NaN     0.0\n",
       "           19        NaN     0.0\n",
       "           20        NaN     0.0\n",
       "           21        NaN     0.0\n",
       "...                  ...     ...\n",
       "2022-12-24 6         NaN     0.0\n",
       "           7     18711.0   837.0\n",
       "           8         NaN     0.0\n",
       "           9         NaN     0.0\n",
       "           10    18713.0   153.0\n",
       "\n",
       "[18090 rows x 2 columns]"
      ]
     },
     "execution_count": 22,
     "metadata": {},
     "output_type": "execute_result"
    }
   ],
   "source": [
    "import pandas as pd\n",
    "from numpy import nansum\n",
    "\n",
    "minute = pd.date_range(start=min(strom_df['date']), end=max(strom_df['date']), freq='min')\n",
    "\n",
    "minute_df = pd.DataFrame(dict(date = minute))\n",
    "minute_df = minute_df.merge(strom_df, on='date', how='left')\n",
    "minute_df['day'] = minute_df['date'].dt.date\n",
    "minute_df['hour'] = minute_df['date'].dt.hour\n",
    "minute_df['minute'] = minute_df['date'].dt.minute\n",
    "\n",
    "hour_df = minute_df.groupby(['day', 'hour']).agg({'value': ['max'], 'minutes': 'sum'})\n",
    "hour_df = minute_df.groupby(['day', 'hour']).agg({'value': ['max'], 'minutes': 'sum'})\n",
    "\n",
    "fig = px.scatter(hour_df, x='index', y='consumption_per_day')\n",
    "fig.show()\n"
   ]
  }
 ],
 "metadata": {
  "kernelspec": {
   "display_name": "Python 3",
   "language": "python",
   "name": "python3"
  },
  "language_info": {
   "codemirror_mode": {
    "name": "ipython",
    "version": 3
   },
   "file_extension": ".py",
   "mimetype": "text/x-python",
   "name": "python",
   "nbconvert_exporter": "python",
   "pygments_lexer": "ipython3",
   "version": "3.10.9 (tags/v3.10.9:1dd9be6, Dec  6 2022, 20:01:21) [MSC v.1934 64 bit (AMD64)]"
  },
  "orig_nbformat": 4,
  "vscode": {
   "interpreter": {
    "hash": "413131baa8297fe386e836b4f80052bc843ab32b3fb6b29d7836d529f1a00806"
   }
  }
 },
 "nbformat": 4,
 "nbformat_minor": 2
}
