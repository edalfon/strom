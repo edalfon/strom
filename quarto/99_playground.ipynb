{
 "cells": [
  {
   "cell_type": "code",
   "execution_count": 1,
   "metadata": {},
   "outputs": [
    {
     "data": {
      "text/html": [
       "<span style=\"None\">Loading configurations from C:\\OneDrive\\All\\strom\\pyproject.toml.</span>"
      ],
      "text/plain": [
       "Loading configurations from C:\\OneDrive\\All\\strom\\pyproject.toml."
      ]
     },
     "metadata": {},
     "output_type": "display_data"
    },
    {
     "data": {
      "text/html": [
       "<span style=\"None\">Settings changed:</span>"
      ],
      "text/plain": [
       "Settings changed:"
      ]
     },
     "metadata": {},
     "output_type": "display_data"
    },
    {
     "data": {
      "text/html": [
       "\n",
       "<table>\n",
       "    <thead>\n",
       "        <tr>\n",
       "            <th>Config</th>\n",
       "            <th>value</th>\n",
       "        </tr>\n",
       "    </thead>\n",
       "    <tbody>\n",
       "        <tr>\n",
       "            <td>feedback</td>\n",
       "            <td>True</td>\n",
       "        </tr>\n",
       "        <tr>\n",
       "            <td>autopandas</td>\n",
       "            <td>True</td>\n",
       "        </tr>\n",
       "        <tr>\n",
       "            <td>displaycon</td>\n",
       "            <td>False</td>\n",
       "        </tr>\n",
       "        <tr>\n",
       "            <td>dsn_filename</td>\n",
       "            <td>./connections.ini</td>\n",
       "        </tr>\n",
       "    </tbody>\n",
       "</table>"
      ],
      "text/plain": [
       "\n",
       "+--------------+-------------------+\n",
       "|    Config    |       value       |\n",
       "+--------------+-------------------+\n",
       "|   feedback   |        True       |\n",
       "|  autopandas  |        True       |\n",
       "|  displaycon  |       False       |\n",
       "| dsn_filename | ./connections.ini |\n",
       "+--------------+-------------------+"
      ]
     },
     "metadata": {},
     "output_type": "display_data"
    },
    {
     "data": {
      "text/html": [
       "<span style=\"None\">Connecting to &#x27;duck&#x27;</span>"
      ],
      "text/plain": [
       "Connecting to 'duck'"
      ]
     },
     "metadata": {},
     "output_type": "display_data"
    }
   ],
   "source": [
    "%load_ext sql\n",
    "%sql --section duck\n",
    "import epyfun\n",
    "sqlite_file = epyfun.get_latest_file(\"./data/\")"
   ]
  },
  {
   "cell_type": "code",
   "execution_count": 2,
   "metadata": {
    "vscode": {
     "languageId": "sql"
    }
   },
   "outputs": [
    {
     "data": {
      "text/html": [
       "<div>\n",
       "<style scoped>\n",
       "    .dataframe tbody tr th:only-of-type {\n",
       "        vertical-align: middle;\n",
       "    }\n",
       "\n",
       "    .dataframe tbody tr th {\n",
       "        vertical-align: top;\n",
       "    }\n",
       "\n",
       "    .dataframe thead th {\n",
       "        text-align: right;\n",
       "    }\n",
       "</style>\n",
       "<table border=\"1\" class=\"dataframe\">\n",
       "  <thead>\n",
       "    <tr style=\"text-align: right;\">\n",
       "      <th></th>\n",
       "      <th>year</th>\n",
       "      <th>month</th>\n",
       "      <th>day</th>\n",
       "      <th>hour</th>\n",
       "      <th>nd</th>\n",
       "      <th>wd</th>\n",
       "      <th>nt</th>\n",
       "      <th>ht</th>\n",
       "      <th>weight</th>\n",
       "    </tr>\n",
       "  </thead>\n",
       "  <tbody>\n",
       "    <tr>\n",
       "      <th>0</th>\n",
       "      <td>2020</td>\n",
       "      <td>12</td>\n",
       "      <td>1</td>\n",
       "      <td>1</td>\n",
       "      <td>0.273349</td>\n",
       "      <td>1.231004</td>\n",
       "      <td>0.820046</td>\n",
       "      <td>0.410959</td>\n",
       "      <td>5.196749e-06</td>\n",
       "    </tr>\n",
       "    <tr>\n",
       "      <th>1</th>\n",
       "      <td>2020</td>\n",
       "      <td>12</td>\n",
       "      <td>1</td>\n",
       "      <td>21</td>\n",
       "      <td>0.545455</td>\n",
       "      <td>1.367372</td>\n",
       "      <td>0.821918</td>\n",
       "      <td>0.545455</td>\n",
       "      <td>2.072410e-05</td>\n",
       "    </tr>\n",
       "    <tr>\n",
       "      <th>2</th>\n",
       "      <td>2020</td>\n",
       "      <td>12</td>\n",
       "      <td>2</td>\n",
       "      <td>1</td>\n",
       "      <td>0.000000</td>\n",
       "      <td>0.669643</td>\n",
       "      <td>0.401786</td>\n",
       "      <td>0.267857</td>\n",
       "      <td>4.989895e-06</td>\n",
       "    </tr>\n",
       "    <tr>\n",
       "      <th>3</th>\n",
       "      <td>2020</td>\n",
       "      <td>12</td>\n",
       "      <td>2</td>\n",
       "      <td>21</td>\n",
       "      <td>0.289157</td>\n",
       "      <td>1.084337</td>\n",
       "      <td>0.289157</td>\n",
       "      <td>0.795181</td>\n",
       "      <td>1.451589e-06</td>\n",
       "    </tr>\n",
       "    <tr>\n",
       "      <th>4</th>\n",
       "      <td>2020</td>\n",
       "      <td>12</td>\n",
       "      <td>3</td>\n",
       "      <td>4</td>\n",
       "      <td>0.160000</td>\n",
       "      <td>1.120000</td>\n",
       "      <td>0.480000</td>\n",
       "      <td>0.640000</td>\n",
       "      <td>7.111111e-06</td>\n",
       "    </tr>\n",
       "    <tr>\n",
       "      <th>...</th>\n",
       "      <td>...</td>\n",
       "      <td>...</td>\n",
       "      <td>...</td>\n",
       "      <td>...</td>\n",
       "      <td>...</td>\n",
       "      <td>...</td>\n",
       "      <td>...</td>\n",
       "      <td>...</td>\n",
       "      <td>...</td>\n",
       "    </tr>\n",
       "    <tr>\n",
       "      <th>17550</th>\n",
       "      <td>2023</td>\n",
       "      <td>9</td>\n",
       "      <td>16</td>\n",
       "      <td>17</td>\n",
       "      <td>0.407793</td>\n",
       "      <td>0.170885</td>\n",
       "      <td>0.112629</td>\n",
       "      <td>0.058256</td>\n",
       "      <td>4.189858e-09</td>\n",
       "    </tr>\n",
       "    <tr>\n",
       "      <th>17551</th>\n",
       "      <td>2023</td>\n",
       "      <td>9</td>\n",
       "      <td>17</td>\n",
       "      <td>2</td>\n",
       "      <td>0.407793</td>\n",
       "      <td>0.170885</td>\n",
       "      <td>0.112629</td>\n",
       "      <td>0.058256</td>\n",
       "      <td>4.189858e-09</td>\n",
       "    </tr>\n",
       "    <tr>\n",
       "      <th>17552</th>\n",
       "      <td>2023</td>\n",
       "      <td>9</td>\n",
       "      <td>17</td>\n",
       "      <td>10</td>\n",
       "      <td>0.407793</td>\n",
       "      <td>0.170885</td>\n",
       "      <td>0.112629</td>\n",
       "      <td>0.058256</td>\n",
       "      <td>4.189858e-09</td>\n",
       "    </tr>\n",
       "    <tr>\n",
       "      <th>17553</th>\n",
       "      <td>2023</td>\n",
       "      <td>9</td>\n",
       "      <td>17</td>\n",
       "      <td>18</td>\n",
       "      <td>0.407793</td>\n",
       "      <td>0.170885</td>\n",
       "      <td>0.112629</td>\n",
       "      <td>0.058256</td>\n",
       "      <td>4.189858e-09</td>\n",
       "    </tr>\n",
       "    <tr>\n",
       "      <th>17554</th>\n",
       "      <td>2023</td>\n",
       "      <td>9</td>\n",
       "      <td>18</td>\n",
       "      <td>4</td>\n",
       "      <td>0.407793</td>\n",
       "      <td>0.170885</td>\n",
       "      <td>0.112629</td>\n",
       "      <td>0.058256</td>\n",
       "      <td>4.189858e-09</td>\n",
       "    </tr>\n",
       "  </tbody>\n",
       "</table>\n",
       "<p>17555 rows × 9 columns</p>\n",
       "</div>"
      ],
      "text/plain": [
       "       year  month  day  hour        nd        wd        nt        ht  \\\n",
       "0      2020     12    1     1  0.273349  1.231004  0.820046  0.410959   \n",
       "1      2020     12    1    21  0.545455  1.367372  0.821918  0.545455   \n",
       "2      2020     12    2     1  0.000000  0.669643  0.401786  0.267857   \n",
       "3      2020     12    2    21  0.289157  1.084337  0.289157  0.795181   \n",
       "4      2020     12    3     4  0.160000  1.120000  0.480000  0.640000   \n",
       "...     ...    ...  ...   ...       ...       ...       ...       ...   \n",
       "17550  2023      9   16    17  0.407793  0.170885  0.112629  0.058256   \n",
       "17551  2023      9   17     2  0.407793  0.170885  0.112629  0.058256   \n",
       "17552  2023      9   17    10  0.407793  0.170885  0.112629  0.058256   \n",
       "17553  2023      9   17    18  0.407793  0.170885  0.112629  0.058256   \n",
       "17554  2023      9   18     4  0.407793  0.170885  0.112629  0.058256   \n",
       "\n",
       "             weight  \n",
       "0      5.196749e-06  \n",
       "1      2.072410e-05  \n",
       "2      4.989895e-06  \n",
       "3      1.451589e-06  \n",
       "4      7.111111e-06  \n",
       "...             ...  \n",
       "17550  4.189858e-09  \n",
       "17551  4.189858e-09  \n",
       "17552  4.189858e-09  \n",
       "17553  4.189858e-09  \n",
       "17554  4.189858e-09  \n",
       "\n",
       "[17555 rows x 9 columns]"
      ]
     },
     "execution_count": 2,
     "metadata": {},
     "output_type": "execute_result"
    }
   ],
   "source": [
    "%%sql\n",
    "\n",
    "            SELECT \n",
    "                year, month, day, hour,\n",
    "                \"1_cd\" AS nd,\n",
    "                \"2_cd\" + \"3_cd\" AS wd,\n",
    "                \"2_cd\" AS nt,\n",
    "                \"3_cd\" AS ht,\n",
    "                POW((\"1_weight\" + \"2_weight\" + \"3_weight\") / 3, 2) AS weight\n",
    "            FROM (\n",
    "                WITH cte AS (\n",
    "                    SELECT     \n",
    "                    EXTRACT(YEAR FROM minute) AS year,    \n",
    "                    EXTRACT(MONTH FROM minute) AS month,\n",
    "                    EXTRACT(DAY FROM minute) AS day,\n",
    "                    EXTRACT(HOUR FROM minute) AS hour,\n",
    "                    1 / FIRST_VALUE(minutes IGNORE NULLS) OVER(\n",
    "                        PARTITION BY meterid \n",
    "                        ORDER BY minute \n",
    "                        ROWS BETWEEN CURRENT ROW AND UNBOUNDED FOLLOWING \n",
    "                    ) AS weight,\n",
    "                    * \n",
    "                    FROM strom_minute\n",
    "                    WHERE \n",
    "                        (minute >= '2020-12-01' AND minute <= '2021-05-25') \n",
    "                        OR \n",
    "                        (minute >= '2022-12-01')\n",
    "                )\n",
    "                PIVOT_WIDER cte\n",
    "                ON meterid\n",
    "                USING \n",
    "                    SUM(cm) AS cd,\n",
    "                    --AVG(cm* 24.0 * 60.0)  AS cd, \n",
    "                    AVG(weight) AS weight\n",
    "                GROUP BY year, month, day, hour\n",
    "            )\n",
    "            ;\n"
   ]
  },
  {
   "cell_type": "code",
   "execution_count": 1,
   "metadata": {
    "vscode": {
     "languageId": "sql"
    }
   },
   "outputs": [
    {
     "name": "stderr",
     "output_type": "stream",
     "text": [
      "UsageError: Cell magic `%%sql` not found.\n"
     ]
    }
   ],
   "source": [
    "%%sql\n",
    "SELECT *,\n",
    "            1 / FIRST_VALUE(minutes IGNORE NULLS) OVER(\n",
    "                PARTITION BY meterid \n",
    "                ORDER BY minute \n",
    "                ROWS BETWEEN CURRENT ROW AND UNBOUNDED FOLLOWING \n",
    "            ) AS weight,\n",
    "\n",
    "FROM strom_minute\n",
    "WHERE meterid = 1\n",
    "--LIMIT 50 OFFSET 100089\n",
    ";"
   ]
  },
  {
   "cell_type": "code",
   "execution_count": 3,
   "metadata": {
    "vscode": {
     "languageId": "sql"
    }
   },
   "outputs": [
    {
     "name": "stdout",
     "output_type": "stream",
     "text": [
      "The sql extension is already loaded. To reload it, use:\n",
      "  %reload_ext sql\n"
     ]
    }
   ],
   "source": [
    "%load_ext sql\n",
    "%sql duckdb://"
   ]
  },
  {
   "cell_type": "code",
   "execution_count": 6,
   "metadata": {
    "vscode": {
     "languageId": "sql"
    }
   },
   "outputs": [
    {
     "name": "stderr",
     "output_type": "stream",
     "text": [
      "RuntimeError: (duckdb.duckdb.CatalogException) Catalog Error: Table with name \"services\" already exists!\n",
      "[SQL: CREATE TABLE services AS\n",
      "    FROM 'https://blobs.duckdb.org/nl-railway/services-2023.csv.gz';]\n",
      "(Background on this error at: https://sqlalche.me/e/20/f405)\n",
      "If you need help solving this issue, send us a message: https://ploomber.io/community\n"
     ]
    }
   ],
   "source": [
    "%%sql\n",
    "\n",
    "CREATE TABLE services AS\n",
    "    FROM 'https://blobs.duckdb.org/nl-railway/services-2023.csv.gz';"
   ]
  },
  {
   "cell_type": "code",
   "execution_count": 8,
   "metadata": {
    "vscode": {
     "languageId": "sql"
    }
   },
   "outputs": [
    {
     "data": {
      "text/html": [
       "<div>\n",
       "<style scoped>\n",
       "    .dataframe tbody tr th:only-of-type {\n",
       "        vertical-align: middle;\n",
       "    }\n",
       "\n",
       "    .dataframe tbody tr th {\n",
       "        vertical-align: top;\n",
       "    }\n",
       "\n",
       "    .dataframe thead th {\n",
       "        text-align: right;\n",
       "    }\n",
       "</style>\n",
       "<table border=\"1\" class=\"dataframe\">\n",
       "  <thead>\n",
       "    <tr style=\"text-align: right;\">\n",
       "      <th></th>\n",
       "      <th>num_services</th>\n",
       "    </tr>\n",
       "  </thead>\n",
       "  <tbody>\n",
       "    <tr>\n",
       "      <th>0</th>\n",
       "      <td>21,239,393</td>\n",
       "    </tr>\n",
       "  </tbody>\n",
       "</table>\n",
       "</div>"
      ],
      "text/plain": [
       "  num_services\n",
       "0   21,239,393"
      ]
     },
     "execution_count": 8,
     "metadata": {},
     "output_type": "execute_result"
    }
   ],
   "source": [
    "%%sql\n",
    "\n",
    "SELECT format('{:,}', count(*)) AS num_services\n",
    "FROM services;"
   ]
  },
  {
   "cell_type": "code",
   "execution_count": 13,
   "metadata": {
    "vscode": {
     "languageId": "sql"
    }
   },
   "outputs": [
    {
     "data": {
      "text/html": [
       "<div>\n",
       "<style scoped>\n",
       "    .dataframe tbody tr th:only-of-type {\n",
       "        vertical-align: middle;\n",
       "    }\n",
       "\n",
       "    .dataframe tbody tr th {\n",
       "        vertical-align: top;\n",
       "    }\n",
       "\n",
       "    .dataframe thead th {\n",
       "        text-align: right;\n",
       "    }\n",
       "</style>\n",
       "<table border=\"1\" class=\"dataframe\">\n",
       "  <thead>\n",
       "    <tr style=\"text-align: right;\">\n",
       "      <th></th>\n",
       "      <th>Success</th>\n",
       "    </tr>\n",
       "  </thead>\n",
       "  <tbody>\n",
       "  </tbody>\n",
       "</table>\n",
       "</div>"
      ],
      "text/plain": [
       "Empty DataFrame\n",
       "Columns: [Success]\n",
       "Index: []"
      ]
     },
     "execution_count": 13,
     "metadata": {},
     "output_type": "execute_result"
    }
   ],
   "source": [
    "%%sql\n",
    "\n",
    "DESCRIBE TABLE services;"
   ]
  },
  {
   "cell_type": "code",
   "execution_count": null,
   "metadata": {
    "vscode": {
     "languageId": "sql"
    }
   },
   "outputs": [],
   "source": []
  },
  {
   "cell_type": "code",
   "execution_count": 1,
   "metadata": {},
   "outputs": [
    {
     "name": "stdout",
     "output_type": "stream",
     "text": [
      "The annual interest rate is approximately 5.9466018%\n"
     ]
    }
   ],
   "source": [
    "import scipy.optimize as opt\n",
    "\n",
    "\n",
    "# Define the function for the present value of an annuity\n",
    "def present_value_annuity(r, X, PMT, n):\n",
    "    return PMT * (1 - (1 + r) ** -n) / r - X\n",
    "\n",
    "\n",
    "# Initial values\n",
    "X = 37840  # Example initial amount\n",
    "PMT = 242.57\n",
    "n = 300\n",
    "\n",
    "# Use a solver to find the interest rate\n",
    "r = opt.newton(present_value_annuity, x0=0.05 / 12, args=(X, PMT, n))\n",
    "annual_interest_rate = r * 12 * 100  # Convert monthly rate to annual percentage rate\n",
    "\n",
    "print(f\"The annual interest rate is approximately {annual_interest_rate:.7f}%\")"
   ]
  },
  {
   "cell_type": "code",
   "execution_count": 2,
   "metadata": {},
   "outputs": [
    {
     "name": "stdout",
     "output_type": "stream",
     "text": [
      "The monthly payment is approximately $279.90\n"
     ]
    }
   ],
   "source": [
    "def calculate_monthly_payment(X, N, i):\n",
    "    # Convert annual interest rate to monthly interest rate\n",
    "    r = i / 12\n",
    "\n",
    "    # Calculate the monthly payment using the formula\n",
    "    PMT = X * (r * (1 + r) ** N) / ((1 + r) ** N - 1)\n",
    "\n",
    "    return PMT\n",
    "\n",
    "\n",
    "# Example values\n",
    "X = 37840  # Loan amount\n",
    "N = 15 * 12  # Total periods (months)\n",
    "i = 0.04  # Annual interest rate (5%)\n",
    "\n",
    "# Calculate monthly payment\n",
    "monthly_payment = calculate_monthly_payment(X, N, i)\n",
    "print(f\"The monthly payment is approximately ${monthly_payment:.2f}\")"
   ]
  },
  {
   "cell_type": "code",
   "execution_count": null,
   "metadata": {},
   "outputs": [],
   "source": []
  }
 ],
 "metadata": {
  "kernelspec": {
   "display_name": "strom-bOg9wg7n-py3.10",
   "language": "python",
   "name": "python3"
  },
  "language_info": {
   "codemirror_mode": {
    "name": "ipython",
    "version": 3
   },
   "file_extension": ".py",
   "mimetype": "text/x-python",
   "name": "python",
   "nbconvert_exporter": "python",
   "pygments_lexer": "ipython3",
   "version": "3.10.11"
  }
 },
 "nbformat": 4,
 "nbformat_minor": 2
}
